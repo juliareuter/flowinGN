{
 "cells": [
  {
   "cell_type": "code",
   "execution_count": 1,
   "metadata": {},
   "outputs": [
    {
     "name": "stderr",
     "output_type": "stream",
     "text": [
      "/opt/anaconda3/envs/pytorchenv/lib/python3.8/site-packages/tqdm/auto.py:22: TqdmWarning: IProgress not found. Please update jupyter and ipywidgets. See https://ipywidgets.readthedocs.io/en/stable/user_install.html\n",
      "  from .autonotebook import tqdm as notebook_tqdm\n"
     ]
    }
   ],
   "source": [
    "import numpy as np\n",
    "import pandas as pd\n",
    "import matplotlib.pyplot as plt\n",
    "import pickle as pkl\n",
    "\n",
    "import torch\n",
    "from torch.optim import Adam\n",
    "from torch.optim.lr_scheduler import OneCycleLR\n",
    "from torch_geometric.nn import MessagePassing\n",
    "from torch.nn import Sequential as Seq, Linear as Lin, Tanh\n",
    "from torch.autograd import Variable\n",
    "from torch_geometric.data import Data\n",
    "from torch_geometric.loader import DataLoader\n",
    "\n",
    "from sklearn.model_selection import train_test_split\n",
    "\n",
    "plt.rc('text', usetex=True)\n",
    "plt.rc('font', family='serif')"
   ]
  },
  {
   "cell_type": "markdown",
   "metadata": {},
   "source": [
    "### Data preparation and model setup"
   ]
  },
  {
   "cell_type": "code",
   "execution_count": 2,
   "metadata": {},
   "outputs": [],
   "source": [
    "Re = '0'\n",
    "#We provide datasets for phi in {0.064, 0.125, 0.216, 0.343}\n",
    "phi = '0.064'\n",
    "#If nodeupdate == False: y=f(x); If nodeupdate == True: y=f(g(x))\n",
    "nodeupdate = True\n",
    "#In all our experiments for this paper, we set \"spherical\" to True, so that Cartesian coordinates are converted to spherical. \n",
    "spherical = True\n",
    "\n",
    "n_particles = 30\n",
    "n_neighbors = n_particles-1\n",
    "\n",
    "def augment_data(X, n):\n",
    "    X_rot = np.zeros((0, X.shape[1]))\n",
    "    theta_vec = np.linspace(0, 2*np.pi, n)[1:-1]\n",
    "    for theta in theta_vec:\n",
    "        X_tmp = np.zeros(X.shape)\n",
    "        for i in range(0, X.shape[1], 3):\n",
    "            X_tmp[:, i] = X[:, i]\n",
    "        for i in range(1, X.shape[1], 3):\n",
    "            X_tmp[:, i] = X[:, i+1] * np.sin(theta) + X[:, i] * np.cos(theta)\n",
    "        for i in range(2, X.shape[1], 3):\n",
    "            X_tmp[:, i] = X[:, i] * np.cos(theta) - X[:, i-1] * np.sin(theta)\n",
    "        X_rot = np.vstack((X_rot, X_tmp))\n",
    "\n",
    "    return np.vstack((X, X_rot))\n",
    "\n",
    "\n",
    "def convert_to_spherical(X):\n",
    "    ptsnew = np.zeros(X.shape)\n",
    "    ptsnew[:,:,0] = np.sqrt(X[:,:,0]**2 + X[:,:,1]**2 + X[:,:,2]**2)\n",
    "    ptsnew[:,:,1] = np.arctan2(np.sqrt(X[:,:,1]**2 + X[:,:,2]**2), X[:,:,0]) # for elevation angle defined from Z-axis down\n",
    "    ptsnew[:,:,2] = np.arctan2(X[:,:,2], X[:,:,1])\n",
    "    \n",
    "    return ptsnew\n",
    "\n",
    "dataset = pd.read_csv(f'./data_inhouse/Re{Re.replace(\".\",\"\")}_phi{phi.replace(\".\",\"\")}_train.csv',\n",
    "                            header=0).values.astype(np.float32)\n",
    "\n",
    "neighbors = dataset[:,15:-3]\n",
    "forces = dataset[:,-3:]\n",
    "u = dataset[:,9:12]\n",
    "part_radius = dataset[:,5][0]\n",
    "\n",
    "dataset = np.concatenate((neighbors, u, forces), axis = 1)\n",
    "dataset = augment_data(dataset, 7)\n",
    "if spherical == True:\n",
    "    X = dataset[:, :n_neighbors*3]\n",
    "    X = X.reshape((X.shape[0], X.shape[1]//3, 3))\n",
    "    X = convert_to_spherical(X)\n",
    "    V = dataset[:, -6:-3]\n",
    "    V = V.reshape((V.shape[0], V.shape[1]//3, 3))\n",
    "    X = np.concatenate((V, X), axis = 1)\n",
    "else:\n",
    "    X = dataset[:, :n_neighbors*3]\n",
    "    V = dataset[:, -6:-3]\n",
    "    X = np.concatenate((V, X), axis = 1)\n",
    "    X = X.reshape((X.shape[0], X.shape[1]//3, 3))\n",
    "X = torch.from_numpy(X).float()\n",
    "\n",
    "y = dataset[:, [-3]]\n",
    "y = y.reshape((y.shape[0], 1, 1))\n",
    "y_mean = y.mean()\n",
    "y -= y_mean\n",
    "y = torch.from_numpy(y).float()\n",
    "\n",
    "X_train, X_test, y_train, y_test = train_test_split(X, y, shuffle=False)\n",
    "\n",
    "\n",
    "def get_edge_index(n):\n",
    "    # n = total number of particles, including particle in focus\n",
    "    # all neighboring particles i > 0 are connected to particle 0 in the center\n",
    "    top = torch.arange(1, n)\n",
    "    bottom = torch.from_numpy(np.zeros(n-1))\n",
    "    edge_index = torch.cat((top[None], bottom[None]), dim=0)\n",
    "\n",
    "    return edge_index.long()"
   ]
  },
  {
   "cell_type": "code",
   "execution_count": 3,
   "metadata": {},
   "outputs": [
    {
     "name": "stdout",
     "output_type": "stream",
     "text": [
      "torch.Size([2250, 30, 3])\n",
      "torch.Size([750, 30, 3])\n"
     ]
    }
   ],
   "source": [
    "print(X_train.shape)\n",
    "print(X_test.shape)"
   ]
  },
  {
   "cell_type": "code",
   "execution_count": 4,
   "metadata": {},
   "outputs": [],
   "source": [
    "class GN_nodeupdate(MessagePassing):\n",
    "  def __init__(self, in_features: int=3, out_features: int=1, hidden: int=30, edge_index: torch.long = None, aggr = 'add'):\n",
    "    super().__init__(aggr=aggr)\n",
    "    self.in_features = in_features\n",
    "    self.out_features = out_features\n",
    "    self.edge_index = edge_index\n",
    "\n",
    "    #define shared message function block as an mlp\n",
    "    self.shared_msg = Seq(\n",
    "        Lin(in_features = 2*in_features, out_features = hidden),\n",
    "        Tanh(),\n",
    "        Lin(in_features = hidden, out_features = hidden),\n",
    "        Tanh(),\n",
    "        Lin(in_features = hidden, out_features = out_features, bias = False))\n",
    "\n",
    "    self.node_fnc = Seq(\n",
    "        Lin(in_features = 4, out_features = hidden),\n",
    "        Tanh(),\n",
    "        Lin(in_features = hidden, out_features = hidden),\n",
    "        Tanh(),\n",
    "        Lin(in_features = hidden, out_features = 1, bias = False))\n",
    "\n",
    "  def forward(self, x, edge_index):\n",
    "    #shape of x is [n_particles, in_features]\n",
    "    #self.propagate calls:\n",
    "    #   self.message\n",
    "    #   self.aggregate (aggregation function defined in __init__)\n",
    "    #   self.update\n",
    "    return self.propagate(edge_index, x=x)\n",
    "\n",
    "  def message(self, x_i, x_j):\n",
    "    # x_i has shape [n_e, n_f]; x_j has shape [n_e, n_f]\n",
    "    tmp = torch.cat([x_i, x_j], dim=1)  # tmp has shape [E, 2 * in_features]\n",
    "    return self.shared_msg(tmp)\n",
    "\n",
    "  def update(self, aggr_out, x=None):\n",
    "    # aggr_out has shape [n, msg_dim]\n",
    "\n",
    "    tmp = torch.cat([x, aggr_out], dim=1)\n",
    "    return self.node_fnc(tmp) #[n, nupdate]\n",
    "\n",
    "class GN_edgeonly(MessagePassing):\n",
    "  def __init__(self, in_features: int=3, out_features: int=1, hidden: int=30, edge_index: torch.long = None, aggr = 'add'):\n",
    "    super().__init__(aggr=aggr)\n",
    "    self.in_features = in_features\n",
    "    self.out_features = out_features\n",
    "    self.edge_index = edge_index\n",
    "\n",
    "    #define shared message function block as an mlp\n",
    "    self.shared_msg = Seq(\n",
    "        Lin(in_features = 2*in_features, out_features = hidden),\n",
    "        Tanh(),\n",
    "        Lin(in_features = hidden, out_features = hidden),\n",
    "        Tanh(),\n",
    "        Lin(in_features = hidden, out_features = out_features, bias = False))\n",
    "\n",
    "  def forward(self, x, edge_index):\n",
    "    #shape of x is [n_particles, in_features]\n",
    "    #self.propagate calls:\n",
    "    #   self.message\n",
    "    #   self.aggregate (aggregation function defined in __init__)\n",
    "    #   self.update\n",
    "    return self.propagate(edge_index, x=x)\n",
    "\n",
    "  def message(self, x_i, x_j):\n",
    "    # x_i has shape [n_e, n_f]; x_j has shape [n_e, n_f]\n",
    "    tmp = torch.cat([x_i, x_j], dim=1)  # tmp has shape [E, 2 * in_features]\n",
    "    return self.shared_msg(tmp)\n"
   ]
  },
  {
   "attachments": {},
   "cell_type": "markdown",
   "metadata": {},
   "source": [
    "### Test model "
   ]
  },
  {
   "cell_type": "code",
   "execution_count": 5,
   "metadata": {},
   "outputs": [],
   "source": [
    "in_features = X_train.shape[-1]\n",
    "out_features = 1\n",
    "edge_index = get_edge_index(n_particles)\n",
    "aggr = 'add'\n",
    "\n",
    "q = Data(x = X_train[0], edge_index=edge_index, y=y_train[0])\n",
    "if nodeupdate == True:\n",
    "    model = GN_nodeupdate(in_features, out_features, edge_index=edge_index, aggr=aggr)\n",
    "else:\n",
    "    model = GN_edgeonly(in_features, out_features, edge_index=edge_index, aggr=aggr)\n"
   ]
  },
  {
   "cell_type": "code",
   "execution_count": 6,
   "metadata": {},
   "outputs": [
    {
     "name": "stdout",
     "output_type": "stream",
     "text": [
      "torch.Size([30, 1])\n",
      "---\n",
      "torch.Size([1, 1])\n",
      "---\n",
      "tensor(0.4137, grad_fn=<SumBackward0>)\n"
     ]
    }
   ],
   "source": [
    "# Test model\n",
    "print(model.forward(q.x, q.edge_index).shape)\n",
    "print('---')\n",
    "print(q.y.shape)\n",
    "print('---')\n",
    "y = q.y\n",
    "y_ = model.forward(q.x, q.edge_index)\n",
    "print(torch.sum(torch.abs(y - y_[0])))"
   ]
  },
  {
   "cell_type": "code",
   "execution_count": 7,
   "metadata": {},
   "outputs": [],
   "source": [
    "batch_size = 100\n",
    "# Used for batch-wise training\n",
    "trainloader = DataLoader(\n",
    "    [Data(Variable(X_train[i]), edge_index=edge_index, y=Variable(y_train[i])) for i in range(len(y_train))],\n",
    "    batch_size=batch_size,\n",
    "    shuffle=True)\n",
    "\n",
    "# Used for testing and message recording\n",
    "testloader = DataLoader(\n",
    "    [Data(X_test[i], edge_index=edge_index, y=y_test[i]) for i in range(len(y_test))],\n",
    "    batch_size= len(y_test),\n",
    "    shuffle=True)"
   ]
  },
  {
   "attachments": {},
   "cell_type": "markdown",
   "metadata": {},
   "source": [
    "### Define message recording function (this data is later on used to train the GP)"
   ]
  },
  {
   "cell_type": "code",
   "execution_count": 8,
   "metadata": {},
   "outputs": [],
   "source": [
    "def message_recording(model, loader):\n",
    "    with torch.no_grad():\n",
    "        for batch in loader:\n",
    "            model.cpu()\n",
    "            sending_particle_data = batch.x[batch.edge_index[0]]\n",
    "            receiving_particle_data = batch.x[batch.edge_index[1]]\n",
    "            y = batch.y\n",
    "            y = y.expand(y.shape[0], n_neighbors)\n",
    "            y = torch.reshape(y, shape=(y.size(0)*n_neighbors, 1))\n",
    "            #print(sending_particle_data.shape)\n",
    "            tmp = torch.cat([receiving_particle_data, sending_particle_data], dim=1)\n",
    "            #print(tmp.shape)\n",
    "            message = model.shared_msg(tmp)\n",
    "            #print(message.shape)\n",
    "            all_data = torch.cat((sending_particle_data, receiving_particle_data, message, y), dim=1)\n",
    "            if spherical == True:\n",
    "                columns = ['r', 'theta', 'phi', 'u_x', 'u_y', 'u_z']\n",
    "            else:\n",
    "                columns = ['x', 'y', 'z' , 'u_x', 'u_y', 'u_z']\n",
    "            columns += ['F_i', 'F_true']\n",
    "    return pd.DataFrame(data=all_data.cpu().detach().numpy(),columns=columns)"
   ]
  },
  {
   "cell_type": "code",
   "execution_count": 9,
   "metadata": {},
   "outputs": [],
   "source": [
    "loss_fn = torch.nn.MSELoss()\n",
    "lr = 2.0e-3\n",
    "epochs = 5000\n",
    "cuteLittleAdam = Adam(model.parameters(), lr=lr)  \n",
    "sched = OneCycleLR(cuteLittleAdam, max_lr=lr, steps_per_epoch=len(trainloader), epochs=epochs, final_div_factor=1e5)\n",
    "\n",
    "# Use GPU for training\n",
    "device = torch.device(\"cuda:0\" if torch.cuda.is_available() else \"cpu\")\n",
    "model = model.to(device)\n",
    "\n",
    "def R2(y_pred, y_true):\n",
    "    SS_res =  torch.sum(torch.square(y_true - y_pred)) \n",
    "    SS_tot = torch.sum(torch.square(y_true - torch.mean(y_true))) \n",
    "    return 1 - SS_res / (SS_tot + 1e-30) #add tiny value to avoid division by 0\n",
    "\n",
    "def accuracy(loader, model):\n",
    "    losses = []\n",
    "    r2s = []\n",
    "    for batch in loader:\n",
    "      with torch.no_grad():\n",
    "        # Compute model prediction\n",
    "        pred = model(batch.x.float(), batch.edge_index) \n",
    "        # Do the reshaping because we only want to predict the property of the center node\n",
    "        pred = pred.reshape((batch.num_graphs, len(pred)//batch.num_graphs))\n",
    "        y_pred_center = pred[:,0].reshape((len(pred),1))\n",
    "        # Compute loss and R^2 of prediction\n",
    "        loss = loss_fn(y_pred_center, batch.y)\n",
    "        r2 = R2(y_pred_center, batch.y)\n",
    "        losses.append(loss)\n",
    "        r2s.append(r2)\n",
    "    loss = sum(losses)/len(losses)\n",
    "    r2 = sum(r2s)/len(r2s)\n",
    "    \n",
    "    return loss, r2"
   ]
  },
  {
   "cell_type": "code",
   "execution_count": 10,
   "metadata": {},
   "outputs": [
    {
     "name": "stdout",
     "output_type": "stream",
     "text": [
      "Epoch 100 | Train Loss 0.0010911428835242987 | Train R^2 0.05323956161737442  | Test Loss 0.001042430056259036 | Test R^2 0.058661818504333496\n",
      "Epoch 200 | Train Loss 0.0009762945119291544 | Train R^2 0.14485561847686768  | Test Loss 0.0009130563121289015 | Test R^2 0.17548930644989014\n",
      "Epoch 300 | Train Loss 0.0006591099663637578 | Train R^2 0.4235284924507141  | Test Loss 0.0006328510935418308 | Test R^2 0.4285210967063904\n",
      "Epoch 400 | Train Loss 0.0004500237409956753 | Train R^2 0.6102735996246338  | Test Loss 0.0004258639819454402 | Test R^2 0.6154351234436035\n",
      "Epoch 500 | Train Loss 0.0005292067071422935 | Train R^2 0.5325982570648193  | Test Loss 0.0005516051314771175 | Test R^2 0.5018880367279053\n",
      "Epoch 600 | Train Loss 0.0006218017661012709 | Train R^2 0.4505860209465027  | Test Loss 0.0006047236383892596 | Test R^2 0.453920841217041\n",
      "Epoch 700 | Train Loss 0.00043207520502619445 | Train R^2 0.6213973760604858  | Test Loss 0.00041606804006733 | Test R^2 0.6242810487747192\n",
      "Epoch 800 | Train Loss 0.00048443247214891016 | Train R^2 0.5779760479927063  | Test Loss 0.0004684535670094192 | Test R^2 0.5769758224487305\n",
      "Epoch 900 | Train Loss 0.0003839933197014034 | Train R^2 0.6622785329818726  | Test Loss 0.0003924225165974349 | Test R^2 0.6456335186958313\n",
      "Epoch 1000 | Train Loss 0.0007205303991213441 | Train R^2 0.37090930342674255  | Test Loss 0.0007290185312740505 | Test R^2 0.34167957305908203\n",
      "Epoch 1100 | Train Loss 0.000439999857917428 | Train R^2 0.617305338382721  | Test Loss 0.00042498536640778184 | Test R^2 0.6162285208702087\n",
      "Epoch 1200 | Train Loss 0.00039141581510193646 | Train R^2 0.6511194109916687  | Test Loss 0.00038186670280992985 | Test R^2 0.6551656723022461\n",
      "Epoch 1300 | Train Loss 0.00036248512333258986 | Train R^2 0.6838603019714355  | Test Loss 0.00036082975566387177 | Test R^2 0.6741625070571899\n",
      "Epoch 1400 | Train Loss 0.0004536435881163925 | Train R^2 0.5985257029533386  | Test Loss 0.00044013693695887923 | Test R^2 0.6025463342666626\n",
      "Epoch 1500 | Train Loss 0.00012834733934141695 | Train R^2 0.8855478167533875  | Test Loss 0.00013000292528886348 | Test R^2 0.8826044201850891\n",
      "Epoch 1600 | Train Loss 0.00020584033336490393 | Train R^2 0.8182860016822815  | Test Loss 0.0002034087519859895 | Test R^2 0.8163172602653503\n",
      "Epoch 1700 | Train Loss 0.00012174211587989703 | Train R^2 0.8923524618148804  | Test Loss 0.0001224642328452319 | Test R^2 0.889411985874176\n",
      "Epoch 1800 | Train Loss 0.00015177778550423682 | Train R^2 0.8653110265731812  | Test Loss 0.00014974463556427509 | Test R^2 0.8647772073745728\n",
      "Epoch 1900 | Train Loss 0.00013016302546020597 | Train R^2 0.8855404853820801  | Test Loss 0.00013705520541407168 | Test R^2 0.8762360215187073\n",
      "Epoch 2000 | Train Loss 0.0001459306076867506 | Train R^2 0.8701773881912231  | Test Loss 0.00015353396884165704 | Test R^2 0.8613553047180176\n",
      "Epoch 2100 | Train Loss 0.00019428903760854155 | Train R^2 0.8262436985969543  | Test Loss 0.0002051263436442241 | Test R^2 0.8147662281990051\n",
      "Epoch 2200 | Train Loss 0.0001514580799266696 | Train R^2 0.8634046316146851  | Test Loss 0.00015935138799250126 | Test R^2 0.8561021089553833\n",
      "Epoch 2300 | Train Loss 0.00015800038818269968 | Train R^2 0.8596698045730591  | Test Loss 0.00016520338249392807 | Test R^2 0.8508175611495972\n",
      "Epoch 2400 | Train Loss 0.00010870247933780774 | Train R^2 0.903695285320282  | Test Loss 0.00011266586079727858 | Test R^2 0.8982601761817932\n",
      "Epoch 2500 | Train Loss 0.0001479444035794586 | Train R^2 0.8693440556526184  | Test Loss 0.000155548463226296 | Test R^2 0.8595361709594727\n",
      "Epoch 2600 | Train Loss 0.00015711698506493121 | Train R^2 0.8612455129623413  | Test Loss 0.0001598150993231684 | Test R^2 0.8556833267211914\n",
      "Epoch 2700 | Train Loss 0.0001049823040375486 | Train R^2 0.9071300625801086  | Test Loss 0.00010943728557322174 | Test R^2 0.9011756181716919\n",
      "Epoch 2800 | Train Loss 0.00010245179146295413 | Train R^2 0.9093887209892273  | Test Loss 0.00010814634151756763 | Test R^2 0.902341365814209\n",
      "Epoch 2900 | Train Loss 0.0001405369839631021 | Train R^2 0.8766108155250549  | Test Loss 0.0001482840598328039 | Test R^2 0.8660961389541626\n",
      "Epoch 3000 | Train Loss 0.0001058166308212094 | Train R^2 0.9051446318626404  | Test Loss 0.0001099109067581594 | Test R^2 0.9007479548454285\n",
      "Epoch 3100 | Train Loss 0.00010612346522975713 | Train R^2 0.904681921005249  | Test Loss 0.000109116590465419 | Test R^2 0.9014652371406555\n",
      "Epoch 3200 | Train Loss 0.00010246781312162057 | Train R^2 0.9088359475135803  | Test Loss 0.00010883220966206864 | Test R^2 0.9017220735549927\n",
      "Epoch 3300 | Train Loss 0.00010125218250323087 | Train R^2 0.9104353189468384  | Test Loss 0.00010558903159108013 | Test R^2 0.9046506881713867\n",
      "Epoch 3400 | Train Loss 0.00010187848238274455 | Train R^2 0.9088699221611023  | Test Loss 0.00010487649706192315 | Test R^2 0.9052941203117371\n",
      "Epoch 3500 | Train Loss 0.00010185981227550656 | Train R^2 0.9097109436988831  | Test Loss 0.00010742779704742134 | Test R^2 0.9029902219772339\n",
      "Epoch 3600 | Train Loss 0.0001024376178975217 | Train R^2 0.9092831015586853  | Test Loss 0.00010806568752741441 | Test R^2 0.9024142026901245\n",
      "Epoch 3700 | Train Loss 0.00010064014350064099 | Train R^2 0.9103695154190063  | Test Loss 0.00010551033483352512 | Test R^2 0.904721736907959\n",
      "Epoch 3800 | Train Loss 0.00011666258069453761 | Train R^2 0.897452712059021  | Test Loss 0.00012419720587786287 | Test R^2 0.8878470659255981\n",
      "Epoch 3900 | Train Loss 0.00010334273974876851 | Train R^2 0.9098561406135559  | Test Loss 0.00010903253132710233 | Test R^2 0.9015411138534546\n",
      "Epoch 4000 | Train Loss 0.00010263500735163689 | Train R^2 0.9088624119758606  | Test Loss 0.00010919535270659253 | Test R^2 0.9013941287994385\n",
      "Epoch 4100 | Train Loss 0.00010151341848541051 | Train R^2 0.9096308350563049  | Test Loss 0.00010517582995817065 | Test R^2 0.9050238132476807\n",
      "Epoch 4200 | Train Loss 0.00010025906522059813 | Train R^2 0.9103118777275085  | Test Loss 0.00010502131772227585 | Test R^2 0.9051633477210999\n",
      "Epoch 4300 | Train Loss 0.00010315263352822512 | Train R^2 0.9089627265930176  | Test Loss 0.00010925076639978215 | Test R^2 0.9013440608978271\n",
      "Epoch 4400 | Train Loss 0.00010380282765254378 | Train R^2 0.9073250889778137  | Test Loss 0.00010800069867400452 | Test R^2 0.9024729132652283\n",
      "Epoch 4500 | Train Loss 0.00010261298302793875 | Train R^2 0.9084441065788269  | Test Loss 0.00010582152754068375 | Test R^2 0.9044407606124878\n",
      "Epoch 4600 | Train Loss 0.00010070684220409021 | Train R^2 0.9099376797676086  | Test Loss 0.00010503049998078495 | Test R^2 0.9051550626754761\n",
      "Epoch 4700 | Train Loss 0.00010033122089225799 | Train R^2 0.91042160987854  | Test Loss 0.00010492769069969654 | Test R^2 0.9052479267120361\n",
      "Epoch 4800 | Train Loss 0.00010003185889218003 | Train R^2 0.9092044234275818  | Test Loss 0.00010517202463233843 | Test R^2 0.9050272703170776\n",
      "Epoch 4900 | Train Loss 9.938207222148776e-05 | Train R^2 0.9115865230560303  | Test Loss 0.00010496158211026341 | Test R^2 0.9052172899246216\n",
      "Epoch 5000 | Train Loss 9.958493319572881e-05 | Train R^2 0.9129557609558105  | Test Loss 0.00010497212497284636 | Test R^2 0.9052077531814575\n"
     ]
    }
   ],
   "source": [
    "r2_prev = 0\n",
    "r2_earlystop_count = 0\n",
    "msg_archive = []\n",
    "\n",
    "for epoch in range(1,epochs+1):\n",
    "    for batch in trainloader:\n",
    "      # Use GPU\n",
    "      batch.to(device)  \n",
    "      # Reset gradients\n",
    "      cuteLittleAdam.zero_grad() \n",
    "      # Passing the node features and the connection info\n",
    "      pred = model(batch.x.float(), batch.edge_index) \n",
    "      # Calculating the loss and gradients\n",
    "      # Do the reshaping because we only want to predict the property of the center node\n",
    "      pred = pred.reshape((batch.num_graphs, len(pred)//batch.num_graphs))\n",
    "      y_pred_center = pred[:,0].reshape((len(pred),1))\n",
    "      # Compute loss and backpropagate\n",
    "      loss = loss_fn(y_pred_center, batch.y)    \n",
    "      loss.backward()  \n",
    "      # Update using the gradients\n",
    "      cuteLittleAdam.step()\n",
    "      sched.step()\n",
    "    \n",
    "    #Store message values \n",
    "    msg = message_recording(model, testloader)\n",
    "    msg_archive.append(msg)\n",
    "\n",
    "    #Early Stopping Check\n",
    "    loss_test, r2_test = accuracy(testloader, model)\n",
    "    if r2_test < r2_prev:\n",
    "      r2_earlystop_count += 1\n",
    "      if r2_earlystop_count == 10:\n",
    "        print('Early Stopping reached')\n",
    "        break\n",
    "    else: \n",
    "      r2_earlystop_count = 0\n",
    "    r2_prev = r2_test\n",
    "\n",
    "    if epoch % 100 == 0:\n",
    "      #go through entire train and test set for trustworthy report of train and test accuracy\n",
    "      loss_train, r2_train = accuracy(trainloader, model)\n",
    "      loss_test, r2_test = accuracy(testloader, model)\n",
    "      print(f\"Epoch {epoch} | Train Loss {loss_train} | Train R^2 {r2_train}  | Test Loss {loss_test} | Test R^2 {r2_test}\")"
   ]
  },
  {
   "attachments": {},
   "cell_type": "markdown",
   "metadata": {},
   "source": [
    "### Save model"
   ]
  },
  {
   "cell_type": "code",
   "execution_count": 14,
   "metadata": {},
   "outputs": [],
   "source": [
    "filename = f'Re{Re.replace(\".\",\"\")}_phi{phi.replace(\".\",\"\")}'\n",
    "if spherical == True:\n",
    "    filename += '_spherical'\n",
    "else:\n",
    "    filename += '_cartesian'\n",
    "if nodeupdate == True:\n",
    "    filename += '_nodeupdate'\n",
    "    \n",
    "msg.to_csv(f'./GP_data/'+filename+'.csv', index=False)\n",
    "pkl.dump(msg, open('./GN_results/messages_'+filename+'.pkl', 'wb'))\n",
    "pkl.dump(model.state_dict(), open('./GN_results/model_'+filename+'.pkl', 'wb'))"
   ]
  },
  {
   "cell_type": "markdown",
   "metadata": {},
   "source": [
    "### Load model"
   ]
  },
  {
   "cell_type": "code",
   "execution_count": 15,
   "metadata": {},
   "outputs": [
    {
     "data": {
      "text/plain": [
       "<All keys matched successfully>"
      ]
     },
     "execution_count": 15,
     "metadata": {},
     "output_type": "execute_result"
    }
   ],
   "source": [
    "filename = f'Re{Re.replace(\".\",\"\")}_phi{phi.replace(\".\",\"\")}'\n",
    "if spherical == True:\n",
    "    filename += '_spherical'\n",
    "else:\n",
    "    filename += '_cartesian'\n",
    "if nodeupdate == True:\n",
    "    filename += '_nodeupdate'\n",
    "    \n",
    "msg = pkl.load(open('./GN_results/messages_'+filename+'.pkl', 'rb'))\n",
    "model_ = pkl.load(open('./GN_results/model_'+filename+'.pkl', 'rb'))\n",
    "if nodeupdate == True:\n",
    "    model = GN_nodeupdate(in_features, out_features, edge_index=edge_index, aggr=aggr)\n",
    "else:\n",
    "    model = GN_edgeonly(in_features, out_features, edge_index=edge_index, aggr=aggr)\n",
    "model.load_state_dict(model_)"
   ]
  },
  {
   "cell_type": "markdown",
   "metadata": {},
   "source": [
    "### Run some tests on the model"
   ]
  },
  {
   "cell_type": "code",
   "execution_count": 16,
   "metadata": {},
   "outputs": [
    {
     "data": {
      "image/png": "[encoded data removed]",
      "text/plain": [
       "<Figure size 400x400 with 1 Axes>"
      ]
     },
     "metadata": {},
     "output_type": "display_data"
    }
   ],
   "source": [
    "plt.rc('font', size='9')\n",
    "\n",
    "for batch in testloader:\n",
    "    with torch.no_grad():\n",
    "        pred = model(batch.x.float(), batch.edge_index) \n",
    "        # Calculating the loss and gradients\n",
    "        # Do the reshaping because we only want to predict the property of the center node\n",
    "        pred = pred.reshape((batch.num_graphs, len(pred)//batch.num_graphs))\n",
    "        y_pred_center = pred[:,0].reshape((len(pred),1))\n",
    "        y = batch.y\n",
    "\n",
    "        fig, ax1 = plt.subplots(figsize=(4,4), tight_layout=True)\n",
    "        \n",
    "        ax1.scatter(y, y_pred_center, marker='.', s=9, linewidth=0.5, alpha=0.8, edgecolor='tab:blue', facecolor='white')\n",
    "        \n",
    "        lim1 = torch.min(y)-torch.std(y)\n",
    "        lim2 = torch.max(y)+torch.std(y)\n",
    "        ax1.plot([lim1, lim2], [lim1, lim2], linestyle='--', color='red', linewidth=2, alpha=0.8)\n",
    "        r2 = R2(y_pred_center, y)\n",
    "        ax1.set_title('$\\phi$ = ' + phi +', nodeupdate = '+str(nodeupdate)+', $R^2$ = '+str(r2.round(decimals=5).numpy()), size = 9)"
   ]
  }
 ],
 "metadata": {
  "kernelspec": {
   "display_name": "pytorchenv",
   "language": "python",
   "name": "python3"
  },
  "language_info": {
   "codemirror_mode": {
    "name": "ipython",
    "version": 3
   },
   "file_extension": ".py",
   "mimetype": "text/x-python",
   "name": "python",
   "nbconvert_exporter": "python",
   "pygments_lexer": "ipython3",
   "version": "3.8.13"
  },
  "orig_nbformat": 4,
  "vscode": {
   "interpreter": {
    "hash": "bc9af5a51fc9e4612254767cda481e0da0f91dee5b846c27938fd725103e1de4"
   }
  }
 },
 "nbformat": 4,
 "nbformat_minor": 2
}
