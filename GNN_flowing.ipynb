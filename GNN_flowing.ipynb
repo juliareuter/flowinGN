{
 "cells": [
  {
   "cell_type": "code",
   "execution_count": 2,
   "metadata": {},
   "outputs": [
    {
     "name": "stderr",
     "output_type": "stream",
     "text": [
      "/opt/anaconda3/envs/pytorchenv/lib/python3.8/site-packages/tqdm/auto.py:22: TqdmWarning: IProgress not found. Please update jupyter and ipywidgets. See https://ipywidgets.readthedocs.io/en/stable/user_install.html\n",
      "  from .autonotebook import tqdm as notebook_tqdm\n"
     ]
    }
   ],
   "source": [
    "import numpy as np\n",
    "import pandas as pd\n",
    "import matplotlib.pyplot as plt\n",
    "import pickle as pkl\n",
    "\n",
    "import torch\n",
    "from torch.optim import Adam\n",
    "from torch.optim.lr_scheduler import OneCycleLR\n",
    "from torch_geometric.nn import MessagePassing\n",
    "from torch.nn import Sequential as Seq, Linear as Lin, Tanh\n",
    "from torch.autograd import Variable\n",
    "from torch_geometric.data import Data\n",
    "from torch_geometric.loader import DataLoader\n",
    "\n",
    "from sklearn.model_selection import train_test_split\n",
    "\n",
    "plt.rc('text', usetex=True)\n",
    "plt.rc('font', family='serif')"
   ]
  },
  {
   "cell_type": "markdown",
   "metadata": {},
   "source": [
    "### Data preparation and model setup"
   ]
  },
  {
   "cell_type": "code",
   "execution_count": 3,
   "metadata": {},
   "outputs": [],
   "source": [
    "Re = '0'\n",
    "#We provide datasets for phi in {0.064, 0.125, 0.216, 0.343}\n",
    "phi = '0.064'\n",
    "#If nodeupdate == False: y=f(x); If nodeupdate == True: y=f(g(x))\n",
    "nodeupdate = True\n",
    "#In all our experiments for this paper, we set \"spherical\" to True, so that Cartesian coordinates are converted to spherical. \n",
    "spherical = True\n",
    "\n",
    "n_particles = 30\n",
    "n_neighbors = n_particles-1\n",
    "\n",
    "def augment_data(X, n):\n",
    "    X_rot = np.zeros((0, X.shape[1]))\n",
    "    theta_vec = np.linspace(0, 2*np.pi, n)[1:-1]\n",
    "    for theta in theta_vec:\n",
    "        X_tmp = np.zeros(X.shape)\n",
    "        for i in range(0, X.shape[1], 3):\n",
    "            X_tmp[:, i] = X[:, i]\n",
    "        for i in range(1, X.shape[1], 3):\n",
    "            X_tmp[:, i] = X[:, i+1] * np.sin(theta) + X[:, i] * np.cos(theta)\n",
    "        for i in range(2, X.shape[1], 3):\n",
    "            X_tmp[:, i] = X[:, i] * np.cos(theta) - X[:, i-1] * np.sin(theta)\n",
    "        X_rot = np.vstack((X_rot, X_tmp))\n",
    "\n",
    "    return np.vstack((X, X_rot))\n",
    "\n",
    "\n",
    "def convert_to_spherical(X):\n",
    "    ptsnew = np.zeros(X.shape)\n",
    "    ptsnew[:,:,0] = np.sqrt(X[:,:,0]**2 + X[:,:,1]**2 + X[:,:,2]**2)\n",
    "    ptsnew[:,:,1] = np.arctan2(np.sqrt(X[:,:,1]**2 + X[:,:,2]**2), X[:,:,0]) # for elevation angle defined from Z-axis down\n",
    "    ptsnew[:,:,2] = np.arctan2(X[:,:,2], X[:,:,1])\n",
    "    \n",
    "    return ptsnew\n",
    "\n",
    "dataset = pd.read_csv(f'./GNN_data_inhouse/Re{Re.replace(\".\",\"\")}_phi{phi.replace(\".\",\"\")}_train.csv',\n",
    "                            header=0).values.astype(np.float32)\n",
    "\n",
    "neighbors = dataset[:,15:-3]\n",
    "forces = dataset[:,-3:]\n",
    "u = dataset[:,9:12]\n",
    "part_radius = dataset[:,5][0]\n",
    "\n",
    "dataset = np.concatenate((neighbors, u, forces), axis = 1)\n",
    "dataset = augment_data(dataset, 7)\n",
    "if spherical == True:\n",
    "    X = dataset[:, :n_neighbors*3]\n",
    "    X = X.reshape((X.shape[0], X.shape[1]//3, 3))\n",
    "    X = convert_to_spherical(X)\n",
    "    V = dataset[:, -6:-3]\n",
    "    V = V.reshape((V.shape[0], V.shape[1]//3, 3))\n",
    "    X = np.concatenate((V, X), axis = 1)\n",
    "else:\n",
    "    X = dataset[:, :n_neighbors*3]\n",
    "    V = dataset[:, -6:-3]\n",
    "    X = np.concatenate((V, X), axis = 1)\n",
    "    X = X.reshape((X.shape[0], X.shape[1]//3, 3))\n",
    "X = torch.from_numpy(X).float()\n",
    "\n",
    "y = dataset[:, [-3]]\n",
    "y = y.reshape((y.shape[0], 1, 1))\n",
    "y_mean = y.mean()\n",
    "y -= y_mean\n",
    "y = torch.from_numpy(y).float()\n",
    "\n",
    "X_train, X_test, y_train, y_test = train_test_split(X, y, shuffle=False)\n",
    "\n",
    "\n",
    "def get_edge_index(n):\n",
    "    # n = total number of particles, including particle in focus\n",
    "    # all neighboring particles i > 0 are connected to particle 0 in the center\n",
    "    top = torch.arange(1, n)\n",
    "    bottom = torch.from_numpy(np.zeros(n-1))\n",
    "    edge_index = torch.cat((top[None], bottom[None]), dim=0)\n",
    "\n",
    "    return edge_index.long()"
   ]
  },
  {
   "cell_type": "code",
   "execution_count": 4,
   "metadata": {},
   "outputs": [
    {
     "name": "stdout",
     "output_type": "stream",
     "text": [
      "torch.Size([2250, 30, 3])\n",
      "torch.Size([750, 30, 3])\n"
     ]
    }
   ],
   "source": [
    "print(X_train.shape)\n",
    "print(X_test.shape)"
   ]
  },
  {
   "cell_type": "code",
   "execution_count": 5,
   "metadata": {},
   "outputs": [],
   "source": [
    "class GNN_nodeupdate(MessagePassing):\n",
    "  def __init__(self, in_features: int=3, out_features: int=1, hidden: int=30, edge_index: torch.long = None, aggr = 'add'):\n",
    "    super().__init__(aggr=aggr)\n",
    "    self.in_features = in_features\n",
    "    self.out_features = out_features\n",
    "    self.edge_index = edge_index\n",
    "\n",
    "    #define shared message function block as an mlp\n",
    "    self.shared_msg = Seq(\n",
    "        Lin(in_features = 2*in_features, out_features = hidden),\n",
    "        Tanh(),\n",
    "        Lin(in_features = hidden, out_features = hidden),\n",
    "        Tanh(),\n",
    "        Lin(in_features = hidden, out_features = out_features, bias = False))\n",
    "\n",
    "    self.node_fnc = Seq(\n",
    "        Lin(in_features = 4, out_features = hidden),\n",
    "        Tanh(),\n",
    "        Lin(in_features = hidden, out_features = hidden),\n",
    "        Tanh(),\n",
    "        Lin(in_features = hidden, out_features = 1, bias = False))\n",
    "\n",
    "  def forward(self, x, edge_index):\n",
    "    #shape of x is [n_particles, in_features]\n",
    "    #self.propagate calls:\n",
    "    #   self.message\n",
    "    #   self.aggregate (aggregation function defined in __init__)\n",
    "    #   self.update\n",
    "    return self.propagate(edge_index, x=x)\n",
    "\n",
    "  def message(self, x_i, x_j):\n",
    "    # x_i has shape [n_e, n_f]; x_j has shape [n_e, n_f]\n",
    "    tmp = torch.cat([x_i, x_j], dim=1)  # tmp has shape [E, 2 * in_features]\n",
    "    return self.shared_msg(tmp)\n",
    "\n",
    "  def update(self, aggr_out, x=None):\n",
    "    # aggr_out has shape [n, msg_dim]\n",
    "\n",
    "    tmp = torch.cat([x, aggr_out], dim=1)\n",
    "    return self.node_fnc(tmp) #[n, nupdate]\n",
    "\n",
    "class GNN_edgeonly(MessagePassing):\n",
    "  def __init__(self, in_features: int=3, out_features: int=1, hidden: int=30, edge_index: torch.long = None, aggr = 'add'):\n",
    "    super().__init__(aggr=aggr)\n",
    "    self.in_features = in_features\n",
    "    self.out_features = out_features\n",
    "    self.edge_index = edge_index\n",
    "\n",
    "    #define shared message function block as an mlp\n",
    "    self.shared_msg = Seq(\n",
    "        Lin(in_features = 2*in_features, out_features = hidden),\n",
    "        Tanh(),\n",
    "        Lin(in_features = hidden, out_features = hidden),\n",
    "        Tanh(),\n",
    "        Lin(in_features = hidden, out_features = out_features, bias = False))\n",
    "\n",
    "  def forward(self, x, edge_index):\n",
    "    #shape of x is [n_particles, in_features]\n",
    "    #self.propagate calls:\n",
    "    #   self.message\n",
    "    #   self.aggregate (aggregation function defined in __init__)\n",
    "    #   self.update\n",
    "    return self.propagate(edge_index, x=x)\n",
    "\n",
    "  def message(self, x_i, x_j):\n",
    "    # x_i has shape [n_e, n_f]; x_j has shape [n_e, n_f]\n",
    "    tmp = torch.cat([x_i, x_j], dim=1)  # tmp has shape [E, 2 * in_features]\n",
    "    return self.shared_msg(tmp)\n"
   ]
  },
  {
   "attachments": {},
   "cell_type": "markdown",
   "metadata": {},
   "source": [
    "### Test model "
   ]
  },
  {
   "cell_type": "code",
   "execution_count": 6,
   "metadata": {},
   "outputs": [],
   "source": [
    "in_features = X_train.shape[-1]\n",
    "out_features = 1\n",
    "edge_index = get_edge_index(n_particles)\n",
    "aggr = 'add'\n",
    "\n",
    "q = Data(x = X_train[0], edge_index=edge_index, y=y_train[0])\n",
    "if nodeupdate == True:\n",
    "    model = GNN_nodeupdate(in_features, out_features, edge_index=edge_index, aggr=aggr)\n",
    "else:\n",
    "    model = GNN_edgeonly(in_features, out_features, edge_index=edge_index, aggr=aggr)\n"
   ]
  },
  {
   "cell_type": "code",
   "execution_count": 8,
   "metadata": {},
   "outputs": [
    {
     "name": "stdout",
     "output_type": "stream",
     "text": [
      "torch.Size([30, 1])\n",
      "---\n",
      "torch.Size([1, 1])\n",
      "---\n",
      "tensor(0.0959, grad_fn=<SumBackward0>)\n"
     ]
    }
   ],
   "source": [
    "# Test model\n",
    "print(model.forward(q.x, q.edge_index).shape)\n",
    "print('---')\n",
    "print(q.y.shape)\n",
    "print('---')\n",
    "y = q.y\n",
    "y_ = model.forward(q.x, q.edge_index)\n",
    "print(torch.sum(torch.abs(y - y_[0])))"
   ]
  },
  {
   "cell_type": "code",
   "execution_count": 9,
   "metadata": {},
   "outputs": [],
   "source": [
    "batch_size = 100\n",
    "# Used for batch-wise training\n",
    "trainloader = DataLoader(\n",
    "    [Data(Variable(X_train[i]), edge_index=edge_index, y=Variable(y_train[i])) for i in range(len(y_train))],\n",
    "    batch_size=batch_size,\n",
    "    shuffle=True)\n",
    "\n",
    "# Used for testing and message recording\n",
    "testloader = DataLoader(\n",
    "    [Data(X_test[i], edge_index=edge_index, y=y_test[i]) for i in range(len(y_test))],\n",
    "    batch_size= len(y_test),\n",
    "    shuffle=True)"
   ]
  },
  {
   "attachments": {},
   "cell_type": "markdown",
   "metadata": {},
   "source": [
    "### Define message recording function (this data is later on used to train the GP)"
   ]
  },
  {
   "cell_type": "code",
   "execution_count": 10,
   "metadata": {},
   "outputs": [],
   "source": [
    "def message_recording(model, loader):\n",
    "    with torch.no_grad():\n",
    "        for batch in loader:\n",
    "            model.cpu()\n",
    "            sending_particle_data = batch.x[batch.edge_index[0]]\n",
    "            receiving_particle_data = batch.x[batch.edge_index[1]]\n",
    "            y = batch.y\n",
    "            y = y.expand(y.shape[0], n_neighbors)\n",
    "            y = torch.reshape(y, shape=(y.size(0)*n_neighbors, 1))\n",
    "            #print(sending_particle_data.shape)\n",
    "            tmp = torch.cat([receiving_particle_data, sending_particle_data], dim=1)\n",
    "            #print(tmp.shape)\n",
    "            message = model.shared_msg(tmp)\n",
    "            #print(message.shape)\n",
    "            all_data = torch.cat((sending_particle_data, receiving_particle_data, message, y), dim=1)\n",
    "            if spherical == True:\n",
    "                columns = ['r', 'theta', 'phi', 'u_x', 'u_y', 'u_z']\n",
    "            else:\n",
    "                columns = ['x', 'y', 'z' , 'u_x', 'u_y', 'u_z']\n",
    "            columns += ['F_i', 'F_true']\n",
    "    return pd.DataFrame(data=all_data.cpu().detach().numpy(),columns=columns)"
   ]
  },
  {
   "cell_type": "code",
   "execution_count": 11,
   "metadata": {},
   "outputs": [],
   "source": [
    "loss_fn = torch.nn.MSELoss()\n",
    "lr = 2.0e-3\n",
    "epochs = 5000\n",
    "cuteLittleAdam = Adam(model.parameters(), lr=lr)  \n",
    "sched = OneCycleLR(cuteLittleAdam, max_lr=lr, steps_per_epoch=len(trainloader), epochs=epochs, final_div_factor=1e5)\n",
    "\n",
    "# Use GPU for training\n",
    "device = torch.device(\"cuda:0\" if torch.cuda.is_available() else \"cpu\")\n",
    "model = model.to(device)\n",
    "\n",
    "def R2(y_pred, y_true):\n",
    "    SS_res =  torch.sum(torch.square(y_true - y_pred)) \n",
    "    SS_tot = torch.sum(torch.square(y_true - torch.mean(y_true))) \n",
    "    return 1 - SS_res / (SS_tot + 1e-30) #add tiny value to avoid division by 0\n",
    "\n",
    "def accuracy(loader, model):\n",
    "    losses = []\n",
    "    r2s = []\n",
    "    for batch in loader:\n",
    "      with torch.no_grad():\n",
    "        # Compute model prediction\n",
    "        pred = model(batch.x.float(), batch.edge_index) \n",
    "        # Do the reshaping because we only want to predict the property of the center node\n",
    "        pred = pred.reshape((batch.num_graphs, len(pred)//batch.num_graphs))\n",
    "        y_pred_center = pred[:,0].reshape((len(pred),1))\n",
    "        # Compute loss and R^2 of prediction\n",
    "        loss = loss_fn(y_pred_center, batch.y)\n",
    "        r2 = R2(y_pred_center, batch.y)\n",
    "        losses.append(loss)\n",
    "        r2s.append(r2)\n",
    "    loss = sum(losses)/len(losses)\n",
    "    r2 = sum(r2s)/len(r2s)\n",
    "    \n",
    "    return loss, r2"
   ]
  },
  {
   "cell_type": "code",
   "execution_count": 12,
   "metadata": {},
   "outputs": [
    {
     "name": "stdout",
     "output_type": "stream",
     "text": [
      "Epoch 100 | Train Loss 0.0009155666921287775 | Train R^2 0.2052535116672516  | Test Loss 0.0008727062377147377 | Test R^2 0.21192634105682373\n",
      "Epoch 200 | Train Loss 0.000496970780659467 | Train R^2 0.5647587776184082  | Test Loss 0.00048004623386077583 | Test R^2 0.5665073394775391\n",
      "Epoch 300 | Train Loss 0.00042780261719599366 | Train R^2 0.6259633898735046  | Test Loss 0.00043359596747905016 | Test R^2 0.6084529161453247\n",
      "Epoch 400 | Train Loss 0.0004518851637840271 | Train R^2 0.5952945947647095  | Test Loss 0.00044001310016028583 | Test R^2 0.6026581525802612\n",
      "Epoch 500 | Train Loss 0.0005776099860668182 | Train R^2 0.487554132938385  | Test Loss 0.0005942113930359483 | Test R^2 0.4634135961532593\n",
      "Epoch 600 | Train Loss 0.00036268195253796875 | Train R^2 0.683306097984314  | Test Loss 0.0003694447223097086 | Test R^2 0.6663830280303955\n",
      "Epoch 700 | Train Loss 0.000466162950033322 | Train R^2 0.5880931615829468  | Test Loss 0.00047543272376060486 | Test R^2 0.570673406124115\n",
      "Epoch 800 | Train Loss 0.00040206476114690304 | Train R^2 0.6493099331855774  | Test Loss 0.0004069657006766647 | Test R^2 0.6325007081031799\n",
      "Epoch 900 | Train Loss 0.0004503448726609349 | Train R^2 0.605393648147583  | Test Loss 0.0004514440370257944 | Test R^2 0.5923357009887695\n",
      "Epoch 1000 | Train Loss 0.00035890541039407253 | Train R^2 0.6845349669456482  | Test Loss 0.00035989502794109285 | Test R^2 0.6750065684318542\n",
      "Epoch 1100 | Train Loss 0.0003579727781470865 | Train R^2 0.6810498237609863  | Test Loss 0.0003552548587322235 | Test R^2 0.6791967749595642\n",
      "Epoch 1200 | Train Loss 0.00039403821574524045 | Train R^2 0.6512826085090637  | Test Loss 0.00039182393811643124 | Test R^2 0.6461740732192993\n",
      "Epoch 1300 | Train Loss 0.00038509402656927705 | Train R^2 0.6584951877593994  | Test Loss 0.0003836878458969295 | Test R^2 0.6535210609436035\n",
      "Epoch 1400 | Train Loss 0.000701568671502173 | Train R^2 0.3791019916534424  | Test Loss 0.000709943356923759 | Test R^2 0.35890501737594604\n",
      "Epoch 1500 | Train Loss 0.00027126577333547175 | Train R^2 0.7602261900901794  | Test Loss 0.0002706247032620013 | Test R^2 0.7556197047233582\n",
      "Epoch 1600 | Train Loss 0.00016494655574206263 | Train R^2 0.8551158308982849  | Test Loss 0.00016463924839626998 | Test R^2 0.8513270020484924\n",
      "Epoch 1700 | Train Loss 0.0001698358973953873 | Train R^2 0.8488712310791016  | Test Loss 0.0001675671519478783 | Test R^2 0.8486830592155457\n",
      "Epoch 1800 | Train Loss 0.00020037191279698163 | Train R^2 0.8194959163665771  | Test Loss 0.00019731112115550786 | Test R^2 0.8218235373497009\n",
      "Epoch 1900 | Train Loss 0.0002308847033418715 | Train R^2 0.7959919571876526  | Test Loss 0.00024533411487936974 | Test R^2 0.7784577012062073\n",
      "Epoch 2000 | Train Loss 0.00016328174388036132 | Train R^2 0.8563427329063416  | Test Loss 0.00017314038996119052 | Test R^2 0.8436502814292908\n",
      "Epoch 2100 | Train Loss 0.00011958613322349265 | Train R^2 0.894182026386261  | Test Loss 0.0001269468484679237 | Test R^2 0.8853641152381897\n",
      "Epoch 2200 | Train Loss 0.00011668218940030783 | Train R^2 0.8973850607872009  | Test Loss 0.00012308842269703746 | Test R^2 0.8888483643531799\n",
      "Epoch 2300 | Train Loss 0.00015104217163752764 | Train R^2 0.8653684854507446  | Test Loss 0.0001527744170743972 | Test R^2 0.8620412349700928\n",
      "Epoch 2400 | Train Loss 0.00012202716607134789 | Train R^2 0.8898134827613831  | Test Loss 0.0001275958784390241 | Test R^2 0.8847780227661133\n",
      "Epoch 2500 | Train Loss 0.00012551998952403665 | Train R^2 0.8883461356163025  | Test Loss 0.0001315673434874043 | Test R^2 0.8811917304992676\n",
      "Epoch 2600 | Train Loss 0.00015916393022052944 | Train R^2 0.8596813082695007  | Test Loss 0.00016740686260163784 | Test R^2 0.8488278388977051\n",
      "Epoch 2700 | Train Loss 0.00011411037121433765 | Train R^2 0.8993316292762756  | Test Loss 0.00012123120541218668 | Test R^2 0.8905254602432251\n",
      "Epoch 2800 | Train Loss 0.00014205330808181316 | Train R^2 0.8745678067207336  | Test Loss 0.00014314817963168025 | Test R^2 0.870733916759491\n",
      "Epoch 2900 | Train Loss 0.00010834647400770336 | Train R^2 0.9051503539085388  | Test Loss 0.00011470058234408498 | Test R^2 0.8964227437973022\n",
      "Epoch 3000 | Train Loss 0.00011370378342689946 | Train R^2 0.8983703255653381  | Test Loss 0.0001143463741755113 | Test R^2 0.8967426419258118\n",
      "Epoch 3100 | Train Loss 0.00011890624591615051 | Train R^2 0.8956305384635925  | Test Loss 0.0001228215842274949 | Test R^2 0.8890892863273621\n",
      "Epoch 3200 | Train Loss 0.00010521261719986796 | Train R^2 0.9072952270507812  | Test Loss 0.00011079238174716011 | Test R^2 0.8999519348144531\n",
      "Epoch 3300 | Train Loss 0.00010936993930954486 | Train R^2 0.9025147557258606  | Test Loss 0.00011361287033651024 | Test R^2 0.8974050283432007\n",
      "Epoch 3400 | Train Loss 0.00010480017954250798 | Train R^2 0.9076768755912781  | Test Loss 0.0001109717195504345 | Test R^2 0.8997900485992432\n",
      "Epoch 3500 | Train Loss 0.00010302532609784976 | Train R^2 0.9093454480171204  | Test Loss 0.0001074291139957495 | Test R^2 0.9029890298843384\n",
      "Epoch 3600 | Train Loss 0.00010223138815490529 | Train R^2 0.9092962145805359  | Test Loss 0.00010729477799031883 | Test R^2 0.9031103849411011\n",
      "Epoch 3700 | Train Loss 0.00010143070539925247 | Train R^2 0.9108672738075256  | Test Loss 0.00010765409388113767 | Test R^2 0.9027858972549438\n",
      "Epoch 3800 | Train Loss 0.0001062009614543058 | Train R^2 0.905626654624939  | Test Loss 0.00011276685108896345 | Test R^2 0.8981689810752869\n",
      "Epoch 3900 | Train Loss 0.00011146565520903096 | Train R^2 0.9020477533340454  | Test Loss 0.00011876179632963613 | Test R^2 0.892755389213562\n",
      "Epoch 4000 | Train Loss 0.00010449964611325413 | Train R^2 0.9086713194847107  | Test Loss 0.00011041483230656013 | Test R^2 0.9002928733825684\n",
      "Epoch 4100 | Train Loss 0.00010480084165465087 | Train R^2 0.9068911075592041  | Test Loss 0.00011120848648715764 | Test R^2 0.8995761871337891\n",
      "Epoch 4200 | Train Loss 0.0001040762072079815 | Train R^2 0.9078115224838257  | Test Loss 0.00011090506450273097 | Test R^2 0.8998501896858215\n",
      "Epoch 4300 | Train Loss 0.0001041859868564643 | Train R^2 0.9086781144142151  | Test Loss 0.00011000584345310926 | Test R^2 0.9006621837615967\n",
      "Epoch 4400 | Train Loss 0.00010206061415374279 | Train R^2 0.9095293879508972  | Test Loss 0.00010840284812729806 | Test R^2 0.9021097421646118\n",
      "Epoch 4500 | Train Loss 0.00010141292295884341 | Train R^2 0.9091443419456482  | Test Loss 0.00010636759543558583 | Test R^2 0.903947651386261\n",
      "Epoch 4600 | Train Loss 9.998420864576474e-05 | Train R^2 0.9114083051681519  | Test Loss 0.00010628443851601332 | Test R^2 0.904022753238678\n",
      "Epoch 4700 | Train Loss 0.00010009128891397268 | Train R^2 0.9106644988059998  | Test Loss 0.00010610110621200874 | Test R^2 0.9041882753372192\n",
      "Epoch 4800 | Train Loss 9.96035014395602e-05 | Train R^2 0.9115081429481506  | Test Loss 0.00010556561755947769 | Test R^2 0.904671847820282\n",
      "Epoch 4900 | Train Loss 0.00010044113878393546 | Train R^2 0.912491500377655  | Test Loss 0.00010565262346062809 | Test R^2 0.904593288898468\n",
      "Epoch 5000 | Train Loss 0.00010018714965553954 | Train R^2 0.9113878011703491  | Test Loss 0.00010560952796367928 | Test R^2 0.9046322107315063\n"
     ]
    }
   ],
   "source": [
    "r2_prev = 0\n",
    "r2_earlystop_count = 0\n",
    "msg_archive = []\n",
    "\n",
    "for epoch in range(1,epochs+1):\n",
    "    for batch in trainloader:\n",
    "      # Use GPU\n",
    "      batch.to(device)  \n",
    "      # Reset gradients\n",
    "      cuteLittleAdam.zero_grad() \n",
    "      # Passing the node features and the connection info\n",
    "      pred = model(batch.x.float(), batch.edge_index) \n",
    "      # Calculating the loss and gradients\n",
    "      # Do the reshaping because we only want to predict the property of the center node\n",
    "      pred = pred.reshape((batch.num_graphs, len(pred)//batch.num_graphs))\n",
    "      y_pred_center = pred[:,0].reshape((len(pred),1))\n",
    "      # Compute loss and backpropagate\n",
    "      loss = loss_fn(y_pred_center, batch.y)    \n",
    "      loss.backward()  \n",
    "      # Update using the gradients\n",
    "      cuteLittleAdam.step()\n",
    "      sched.step()\n",
    "    \n",
    "    #Store message values \n",
    "    msg = message_recording(model, testloader)\n",
    "    msg_archive.append(msg)\n",
    "\n",
    "    #Early Stopping Check\n",
    "    loss_test, r2_test = accuracy(testloader, model)\n",
    "    if r2_test < r2_prev:\n",
    "      r2_earlystop_count += 1\n",
    "      if r2_earlystop_count == 10:\n",
    "        print('Early Stopping reached')\n",
    "        break\n",
    "    else: \n",
    "      r2_earlystop_count = 0\n",
    "    r2_prev = r2_test\n",
    "\n",
    "    if epoch % 100 == 0:\n",
    "      #go through entire train and test set for trustworthy report of train and test accuracy\n",
    "      loss_train, r2_train = accuracy(trainloader, model)\n",
    "      loss_test, r2_test = accuracy(testloader, model)\n",
    "      print(f\"Epoch {epoch} | Train Loss {loss_train} | Train R^2 {r2_train}  | Test Loss {loss_test} | Test R^2 {r2_test}\")"
   ]
  },
  {
   "attachments": {},
   "cell_type": "markdown",
   "metadata": {},
   "source": [
    "### Save model"
   ]
  },
  {
   "cell_type": "code",
   "execution_count": 11,
   "metadata": {},
   "outputs": [],
   "source": [
    "filename = f'Re{Re.replace(\".\",\"\")}_phi{phi.replace(\".\",\"\")}'\n",
    "if spherical == True:\n",
    "    filename += '_spherical'\n",
    "else:\n",
    "    filename += '_cartesian'\n",
    "if nodeupdate == True:\n",
    "    filename += '_nodeupdate'\n",
    "    \n",
    "msg.to_csv(f'./GP_data/'+filename+'.csv', index=False)\n",
    "pkl.dump(msg, open('./GNN_results/messages_'+filename+'.pkl', 'wb'))\n",
    "pkl.dump(model.state_dict(), open('./GNN_results/model_'+filename+'.pkl', 'wb'))"
   ]
  },
  {
   "cell_type": "markdown",
   "metadata": {},
   "source": [
    "### Load model"
   ]
  },
  {
   "cell_type": "code",
   "execution_count": 12,
   "metadata": {},
   "outputs": [
    {
     "data": {
      "text/plain": [
       "<All keys matched successfully>"
      ]
     },
     "execution_count": 12,
     "metadata": {},
     "output_type": "execute_result"
    }
   ],
   "source": [
    "filename = f'Re{Re.replace(\".\",\"\")}_phi{phi.replace(\".\",\"\")}'\n",
    "if spherical == True:\n",
    "    filename += '_spherical'\n",
    "else:\n",
    "    filename += '_cartesian'\n",
    "if nodeupdate == True:\n",
    "    filename += '_nodeupdate'\n",
    "    \n",
    "msg = pkl.load(open('./GNN_results/messages_'+filename+'.pkl', 'rb'))\n",
    "model_ = pkl.load(open('./GNN_results/model_'+filename+'.pkl', 'rb'))\n",
    "if nodeupdate == True:\n",
    "    model = GNN_nodeupdate(in_features, out_features, edge_index=edge_index, aggr=aggr)\n",
    "else:\n",
    "    model = GNN_edgeonly(in_features, out_features, edge_index=edge_index, aggr=aggr)\n",
    "model.load_state_dict(model_)"
   ]
  },
  {
   "cell_type": "markdown",
   "metadata": {},
   "source": [
    "### Run some tests on the model"
   ]
  },
  {
   "cell_type": "code",
   "execution_count": 13,
   "metadata": {},
   "outputs": [
    {
     "data": {
      "image/png": "[encoded data removed]",
      "text/plain": [
       "<Figure size 400x400 with 1 Axes>"
      ]
     },
     "metadata": {},
     "output_type": "display_data"
    }
   ],
   "source": [
    "plt.rc('font', size='9')\n",
    "\n",
    "for batch in testloader:\n",
    "    with torch.no_grad():\n",
    "        pred = model(batch.x.float(), batch.edge_index) \n",
    "        # Calculating the loss and gradients\n",
    "        # Do the reshaping because we only want to predict the property of the center node\n",
    "        pred = pred.reshape((batch.num_graphs, len(pred)//batch.num_graphs))\n",
    "        y_pred_center = pred[:,0].reshape((len(pred),1))\n",
    "        y = batch.y\n",
    "\n",
    "        fig, ax1 = plt.subplots(figsize=(4,4), tight_layout=True)\n",
    "        \n",
    "        ax1.scatter(y, y_pred_center, marker='.', s=9, linewidth=0.5, alpha=0.8, edgecolor='tab:blue', facecolor='white')\n",
    "        \n",
    "        lim1 = torch.min(y)-torch.std(y)\n",
    "        lim2 = torch.max(y)+torch.std(y)\n",
    "        ax1.plot([lim1, lim2], [lim1, lim2], linestyle='--', color='red', linewidth=2, alpha=0.8)\n",
    "        r2 = R2(y_pred_center, y)\n",
    "        ax1.set_title('$\\phi$ = ' + phi +', nodeupdate = '+str(nodeupdate)+', $R^2$ = '+str(r2.round(decimals=5).numpy()), size = 9)"
   ]
  }
 ],
 "metadata": {
  "kernelspec": {
   "display_name": "Python 3.8.13 ('pytorchenv')",
   "language": "python",
   "name": "python3"
  },
  "language_info": {
   "codemirror_mode": {
    "name": "ipython",
    "version": 3
   },
   "file_extension": ".py",
   "mimetype": "text/x-python",
   "name": "python",
   "nbconvert_exporter": "python",
   "pygments_lexer": "ipython3",
   "version": "3.8.13"
  },
  "orig_nbformat": 4,
  "vscode": {
   "interpreter": {
    "hash": "bc9af5a51fc9e4612254767cda481e0da0f91dee5b846c27938fd725103e1de4"
   }
  }
 },
 "nbformat": 4,
 "nbformat_minor": 2
}
