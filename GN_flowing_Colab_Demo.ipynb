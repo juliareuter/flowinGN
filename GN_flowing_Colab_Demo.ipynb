{
  "cells": [
    {
      "cell_type": "markdown",
      "metadata": {
        "id": "view-in-github",
        "colab_type": "text"
      },
      "source": [
        "<a href=\"https://colab.research.google.com/github/juliareuter/flowinGN/blob/main/GN_flowing_Colab_Demo.ipynb\" target=\"_parent\"><img src=\"https://colab.research.google.com/assets/colab-badge.svg\" alt=\"Open In Colab\"/></a>"
      ]
    },
    {
      "cell_type": "code",
      "source": [
        "import torch\n",
        "import os\n",
        "\n",
        "version_nums = torch.__version__.split('.')\n",
        "# Torch Geometric seems to always build for *.*.0 of torch :\n",
        "version_nums[-1] = '0' + version_nums[-1][1:]\n",
        "os.environ['TORCH'] = '.'.join(version_nums)\n",
        " \n",
        "!pip install --upgrade torch-scatter -f https://pytorch-geometric.com/whl/torch-${TORCH}.html && pip install --upgrade torch-sparse -f https://pytorch-geometric.com/whl/torch-${TORCH}.html && pip install --upgrade torch-geometric"
      ],
      "metadata": {
        "id": "wCEfrA6ZJC8l",
        "outputId": "eb48fbb4-4f96-4532-99bc-7d08439671ba",
        "colab": {
          "base_uri": "https://localhost:8080/",
          "height": 1000
        }
      },
      "execution_count": null,
      "outputs": [
        {
          "output_type": "stream",
          "name": "stdout",
          "text": [
            "Looking in indexes: https://pypi.org/simple, https://us-python.pkg.dev/colab-wheels/public/simple/\n",
            "Looking in links: https://pytorch-geometric.com/whl/torch-1.13.0+cu116.html\n",
            "Collecting torch-scatter\n",
            "  Downloading https://data.pyg.org/whl/torch-1.13.0%2Bcu116/torch_scatter-2.1.0%2Bpt113cu116-cp39-cp39-linux_x86_64.whl (9.4 MB)\n",
            "\u001b[2K     \u001b[90m━━━━━━━━━━━━━━━━━━━━━━━━━━━━━━━━━━━━━━━━\u001b[0m \u001b[32m9.4/9.4 MB\u001b[0m \u001b[31m64.0 MB/s\u001b[0m eta \u001b[36m0:00:00\u001b[0m\n",
            "\u001b[?25hInstalling collected packages: torch-scatter\n",
            "Successfully installed torch-scatter-2.1.0+pt113cu116\n",
            "Looking in indexes: https://pypi.org/simple, https://us-python.pkg.dev/colab-wheels/public/simple/\n",
            "Looking in links: https://pytorch-geometric.com/whl/torch-1.13.0+cu116.html\n",
            "Collecting torch-sparse\n",
            "  Downloading https://data.pyg.org/whl/torch-1.13.0%2Bcu116/torch_sparse-0.6.16%2Bpt113cu116-cp39-cp39-linux_x86_64.whl (4.5 MB)\n",
            "\u001b[2K     \u001b[90m━━━━━━━━━━━━━━━━━━━━━━━━━━━━━━━━━━━━━━━━\u001b[0m \u001b[32m4.5/4.5 MB\u001b[0m \u001b[31m53.9 MB/s\u001b[0m eta \u001b[36m0:00:00\u001b[0m\n",
            "\u001b[?25hRequirement already satisfied: scipy in /usr/local/lib/python3.9/dist-packages (from torch-sparse) (1.10.1)\n",
            "Requirement already satisfied: numpy<1.27.0,>=1.19.5 in /usr/local/lib/python3.9/dist-packages (from scipy->torch-sparse) (1.22.4)\n",
            "Installing collected packages: torch-sparse\n",
            "Successfully installed torch-sparse-0.6.16+pt113cu116\n",
            "Looking in indexes: https://pypi.org/simple, https://us-python.pkg.dev/colab-wheels/public/simple/\n",
            "Collecting torch-geometric\n",
            "  Downloading torch_geometric-2.2.0.tar.gz (564 kB)\n",
            "\u001b[2K     \u001b[90m━━━━━━━━━━━━━━━━━━━━━━━━━━━━━━━━━━━━━━\u001b[0m \u001b[32m565.0/565.0 KB\u001b[0m \u001b[31m14.4 MB/s\u001b[0m eta \u001b[36m0:00:00\u001b[0m\n",
            "\u001b[?25h  Preparing metadata (setup.py) ... \u001b[?25l\u001b[?25hdone\n",
            "Requirement already satisfied: tqdm in /usr/local/lib/python3.9/dist-packages (from torch-geometric) (4.65.0)\n",
            "Requirement already satisfied: numpy in /usr/local/lib/python3.9/dist-packages (from torch-geometric) (1.22.4)\n",
            "Requirement already satisfied: scipy in /usr/local/lib/python3.9/dist-packages (from torch-geometric) (1.10.1)\n",
            "Requirement already satisfied: jinja2 in /usr/local/lib/python3.9/dist-packages (from torch-geometric) (3.1.2)\n",
            "Requirement already satisfied: requests in /usr/local/lib/python3.9/dist-packages (from torch-geometric) (2.25.1)\n",
            "Requirement already satisfied: pyparsing in /usr/local/lib/python3.9/dist-packages (from torch-geometric) (3.0.9)\n",
            "Requirement already satisfied: scikit-learn in /usr/local/lib/python3.9/dist-packages (from torch-geometric) (1.2.2)\n",
            "Collecting psutil>=5.8.0\n",
            "  Downloading psutil-5.9.4-cp36-abi3-manylinux_2_12_x86_64.manylinux2010_x86_64.manylinux_2_17_x86_64.manylinux2014_x86_64.whl (280 kB)\n",
            "\u001b[2K     \u001b[90m━━━━━━━━━━━━━━━━━━━━━━━━━━━━━━━━━━━━━━\u001b[0m \u001b[32m280.2/280.2 KB\u001b[0m \u001b[31m29.3 MB/s\u001b[0m eta \u001b[36m0:00:00\u001b[0m\n",
            "\u001b[?25hRequirement already satisfied: MarkupSafe>=2.0 in /usr/local/lib/python3.9/dist-packages (from jinja2->torch-geometric) (2.1.2)\n",
            "Requirement already satisfied: urllib3<1.27,>=1.21.1 in /usr/local/lib/python3.9/dist-packages (from requests->torch-geometric) (1.26.15)\n",
            "Requirement already satisfied: chardet<5,>=3.0.2 in /usr/local/lib/python3.9/dist-packages (from requests->torch-geometric) (4.0.0)\n",
            "Requirement already satisfied: certifi>=2017.4.17 in /usr/local/lib/python3.9/dist-packages (from requests->torch-geometric) (2022.12.7)\n",
            "Requirement already satisfied: idna<3,>=2.5 in /usr/local/lib/python3.9/dist-packages (from requests->torch-geometric) (2.10)\n",
            "Requirement already satisfied: threadpoolctl>=2.0.0 in /usr/local/lib/python3.9/dist-packages (from scikit-learn->torch-geometric) (3.1.0)\n",
            "Requirement already satisfied: joblib>=1.1.1 in /usr/local/lib/python3.9/dist-packages (from scikit-learn->torch-geometric) (1.1.1)\n",
            "Building wheels for collected packages: torch-geometric\n",
            "  Building wheel for torch-geometric (setup.py) ... \u001b[?25l\u001b[?25hdone\n",
            "  Created wheel for torch-geometric: filename=torch_geometric-2.2.0-py3-none-any.whl size=773302 sha256=f80e450817f4a716b00299277be0cfcf9909e66aa9218537eaef1b8d7aac9475\n",
            "  Stored in directory: /root/.cache/pip/wheels/31/b2/8c/9b4bb72a4384eabd1ffeab2b7ead692c9165e35711f8a9dc72\n",
            "Successfully built torch-geometric\n",
            "Installing collected packages: psutil, torch-geometric\n",
            "  Attempting uninstall: psutil\n",
            "    Found existing installation: psutil 5.4.8\n",
            "    Uninstalling psutil-5.4.8:\n",
            "      Successfully uninstalled psutil-5.4.8\n",
            "Successfully installed psutil-5.9.4 torch-geometric-2.2.0\n"
          ]
        },
        {
          "output_type": "display_data",
          "data": {
            "application/vnd.colab-display-data+json": {
              "pip_warning": {
                "packages": [
                  "psutil"
                ]
              }
            }
          },
          "metadata": {}
        }
      ]
    },
    {
      "cell_type": "code",
      "execution_count": null,
      "metadata": {
        "id": "6sAljdjNInpS"
      },
      "outputs": [],
      "source": [
        "import numpy as np\n",
        "import pandas as pd\n",
        "import matplotlib.pyplot as plt\n",
        "import pickle as pkl\n",
        "\n",
        "import torch\n",
        "from torch.optim import Adam\n",
        "from torch.optim.lr_scheduler import OneCycleLR\n",
        "from torch_geometric.nn import MessagePassing\n",
        "from torch.nn import Sequential as Seq, Linear as Lin, Tanh\n",
        "from torch.autograd import Variable\n",
        "from torch_geometric.data import Data\n",
        "from torch_geometric.loader import DataLoader\n",
        "\n",
        "from sklearn.model_selection import train_test_split\n",
        "\n",
        "plt.rc('text', usetex=True)\n",
        "plt.rc('font', family='serif')"
      ]
    },
    {
      "cell_type": "markdown",
      "metadata": {
        "id": "4NS3LhFxInpT"
      },
      "source": [
        "### Data preparation and model setup"
      ]
    },
    {
      "cell_type": "code",
      "execution_count": null,
      "metadata": {
        "id": "dsmtRzNjInpU"
      },
      "outputs": [],
      "source": [
        "Re = '0'\n",
        "#We provide datasets for phi in {0.064, 0.125, 0.216, 0.343}\n",
        "phi = '0.064'\n",
        "#If nodeupdate == False: y=f(x); If nodeupdate == True: y=f(g(x))\n",
        "nodeupdate = True\n",
        "#In all our experiments for this paper, we set \"spherical\" to True, so that Cartesian coordinates are converted to spherical. \n",
        "spherical = True\n",
        "\n",
        "n_particles = 30\n",
        "n_neighbors = n_particles-1\n",
        "\n",
        "def augment_data(X, n):\n",
        "    X_rot = np.zeros((0, X.shape[1]))\n",
        "    theta_vec = np.linspace(0, 2*np.pi, n)[1:-1]\n",
        "    for theta in theta_vec:\n",
        "        X_tmp = np.zeros(X.shape)\n",
        "        for i in range(0, X.shape[1], 3):\n",
        "            X_tmp[:, i] = X[:, i]\n",
        "        for i in range(1, X.shape[1], 3):\n",
        "            X_tmp[:, i] = X[:, i+1] * np.sin(theta) + X[:, i] * np.cos(theta)\n",
        "        for i in range(2, X.shape[1], 3):\n",
        "            X_tmp[:, i] = X[:, i] * np.cos(theta) - X[:, i-1] * np.sin(theta)\n",
        "        X_rot = np.vstack((X_rot, X_tmp))\n",
        "\n",
        "    return np.vstack((X, X_rot))\n",
        "\n",
        "\n",
        "def convert_to_spherical(X):\n",
        "    ptsnew = np.zeros(X.shape)\n",
        "    ptsnew[:,:,0] = np.sqrt(X[:,:,0]**2 + X[:,:,1]**2 + X[:,:,2]**2)\n",
        "    ptsnew[:,:,1] = np.arctan2(np.sqrt(X[:,:,1]**2 + X[:,:,2]**2), X[:,:,0]) # for elevation angle defined from Z-axis down\n",
        "    ptsnew[:,:,2] = np.arctan2(X[:,:,2], X[:,:,1])\n",
        "    \n",
        "    return ptsnew\n",
        "\n",
        "#Import dataset from github repo\n",
        "url = f'https://raw.githubusercontent.com/juliareuter/flowinGN/main/data_inhouse/Re{Re.replace(\".\",\"\")}_phi{phi.replace(\".\",\"\")}_train.csv'\n",
        "dataset = pd.read_csv(url, header=0).values.astype(np.float32)\n",
        "\n",
        "neighbors = dataset[:,15:-3]\n",
        "forces = dataset[:,-3:]\n",
        "u = dataset[:,9:12]\n",
        "part_radius = dataset[:,5][0]\n",
        "\n",
        "dataset = np.concatenate((neighbors, u, forces), axis = 1)\n",
        "dataset = augment_data(dataset, 7)\n",
        "if spherical == True:\n",
        "    X = dataset[:, :n_neighbors*3]\n",
        "    X = X.reshape((X.shape[0], X.shape[1]//3, 3))\n",
        "    X = convert_to_spherical(X)\n",
        "    V = dataset[:, -6:-3]\n",
        "    V = V.reshape((V.shape[0], V.shape[1]//3, 3))\n",
        "    X = np.concatenate((V, X), axis = 1)\n",
        "else:\n",
        "    X = dataset[:, :n_neighbors*3]\n",
        "    V = dataset[:, -6:-3]\n",
        "    X = np.concatenate((V, X), axis = 1)\n",
        "    X = X.reshape((X.shape[0], X.shape[1]//3, 3))\n",
        "X = torch.from_numpy(X).float()\n",
        "\n",
        "y = dataset[:, [-3]]\n",
        "y = y.reshape((y.shape[0], 1, 1))\n",
        "y_mean = y.mean()\n",
        "y -= y_mean\n",
        "y = torch.from_numpy(y).float()\n",
        "\n",
        "X_train, X_test, y_train, y_test = train_test_split(X, y, shuffle=False)\n",
        "\n",
        "\n",
        "def get_edge_index(n):\n",
        "    # n = total number of particles, including particle in focus\n",
        "    # all neighboring particles i > 0 are connected to particle 0 in the center\n",
        "    top = torch.arange(1, n)\n",
        "    bottom = torch.from_numpy(np.zeros(n-1))\n",
        "    edge_index = torch.cat((top[None], bottom[None]), dim=0)\n",
        "\n",
        "    return edge_index.long()"
      ]
    },
    {
      "cell_type": "code",
      "execution_count": null,
      "metadata": {
        "colab": {
          "base_uri": "https://localhost:8080/"
        },
        "id": "vv3thZoWInpV",
        "outputId": "c52ede35-debe-490b-f34c-553367d74a29"
      },
      "outputs": [
        {
          "output_type": "stream",
          "name": "stdout",
          "text": [
            "torch.Size([2250, 30, 3])\n",
            "torch.Size([750, 30, 3])\n"
          ]
        }
      ],
      "source": [
        "print(X_train.shape)\n",
        "print(X_test.shape)"
      ]
    },
    {
      "cell_type": "code",
      "execution_count": null,
      "metadata": {
        "id": "httwsJxUInpW"
      },
      "outputs": [],
      "source": [
        "class GN_nodeupdate(MessagePassing):\n",
        "  def __init__(self, in_features: int=3, out_features: int=1, hidden: int=30, edge_index: torch.long = None, aggr = 'add'):\n",
        "    super().__init__(aggr=aggr)\n",
        "    self.in_features = in_features\n",
        "    self.out_features = out_features\n",
        "    self.edge_index = edge_index\n",
        "\n",
        "    #define shared message function block as an mlp\n",
        "    self.shared_msg = Seq(\n",
        "        Lin(in_features = 2*in_features, out_features = hidden),\n",
        "        Tanh(),\n",
        "        Lin(in_features = hidden, out_features = hidden),\n",
        "        Tanh(),\n",
        "        Lin(in_features = hidden, out_features = out_features, bias = False))\n",
        "\n",
        "    self.node_fnc = Seq(\n",
        "        Lin(in_features = 4, out_features = hidden),\n",
        "        Tanh(),\n",
        "        Lin(in_features = hidden, out_features = hidden),\n",
        "        Tanh(),\n",
        "        Lin(in_features = hidden, out_features = 1, bias = False))\n",
        "\n",
        "  def forward(self, x, edge_index):\n",
        "    #shape of x is [n_particles, in_features]\n",
        "    #self.propagate calls:\n",
        "    #   self.message\n",
        "    #   self.aggregate (aggregation function defined in __init__)\n",
        "    #   self.update\n",
        "    return self.propagate(edge_index, x=x)\n",
        "\n",
        "  def message(self, x_i, x_j):\n",
        "    # x_i has shape [n_e, n_f]; x_j has shape [n_e, n_f]\n",
        "    tmp = torch.cat([x_i, x_j], dim=1)  # tmp has shape [E, 2 * in_features]\n",
        "    return self.shared_msg(tmp)\n",
        "\n",
        "  def update(self, aggr_out, x=None):\n",
        "    # aggr_out has shape [n, msg_dim]\n",
        "\n",
        "    tmp = torch.cat([x, aggr_out], dim=1)\n",
        "    return self.node_fnc(tmp) #[n, nupdate]\n",
        "\n",
        "class GN_edgeonly(MessagePassing):\n",
        "  def __init__(self, in_features: int=3, out_features: int=1, hidden: int=30, edge_index: torch.long = None, aggr = 'add'):\n",
        "    super().__init__(aggr=aggr)\n",
        "    self.in_features = in_features\n",
        "    self.out_features = out_features\n",
        "    self.edge_index = edge_index\n",
        "\n",
        "    #define shared message function block as an mlp\n",
        "    self.shared_msg = Seq(\n",
        "        Lin(in_features = 2*in_features, out_features = hidden),\n",
        "        Tanh(),\n",
        "        Lin(in_features = hidden, out_features = hidden),\n",
        "        Tanh(),\n",
        "        Lin(in_features = hidden, out_features = out_features, bias = False))\n",
        "\n",
        "  def forward(self, x, edge_index):\n",
        "    #shape of x is [n_particles, in_features]\n",
        "    #self.propagate calls:\n",
        "    #   self.message\n",
        "    #   self.aggregate (aggregation function defined in __init__)\n",
        "    #   self.update\n",
        "    return self.propagate(edge_index, x=x)\n",
        "\n",
        "  def message(self, x_i, x_j):\n",
        "    # x_i has shape [n_e, n_f]; x_j has shape [n_e, n_f]\n",
        "    tmp = torch.cat([x_i, x_j], dim=1)  # tmp has shape [E, 2 * in_features]\n",
        "    return self.shared_msg(tmp)\n"
      ]
    },
    {
      "cell_type": "markdown",
      "metadata": {
        "id": "W3cQD1DZInpX"
      },
      "source": [
        "### Test model "
      ]
    },
    {
      "cell_type": "code",
      "execution_count": null,
      "metadata": {
        "id": "8b0R5eYDInpX"
      },
      "outputs": [],
      "source": [
        "in_features = X_train.shape[-1]\n",
        "out_features = 1\n",
        "edge_index = get_edge_index(n_particles)\n",
        "aggr = 'add'\n",
        "\n",
        "q = Data(x = X_train[0], edge_index=edge_index, y=y_train[0])\n",
        "if nodeupdate == True:\n",
        "    model = GN_nodeupdate(in_features, out_features, edge_index=edge_index, aggr=aggr)\n",
        "else:\n",
        "    model = GN_edgeonly(in_features, out_features, edge_index=edge_index, aggr=aggr)\n"
      ]
    },
    {
      "cell_type": "code",
      "execution_count": null,
      "metadata": {
        "colab": {
          "base_uri": "https://localhost:8080/"
        },
        "id": "wTngV8KGInpX",
        "outputId": "ef7ae560-46f8-4657-830b-0fe568a95156"
      },
      "outputs": [
        {
          "output_type": "stream",
          "name": "stdout",
          "text": [
            "torch.Size([30, 1])\n",
            "---\n",
            "torch.Size([1, 1])\n",
            "---\n",
            "tensor(0.3057, grad_fn=<SumBackward0>)\n"
          ]
        }
      ],
      "source": [
        "# Test model\n",
        "print(model.forward(q.x, q.edge_index).shape)\n",
        "print('---')\n",
        "print(q.y.shape)\n",
        "print('---')\n",
        "y = q.y\n",
        "y_ = model.forward(q.x, q.edge_index)\n",
        "print(torch.sum(torch.abs(y - y_[0])))"
      ]
    },
    {
      "cell_type": "code",
      "execution_count": null,
      "metadata": {
        "id": "2hYjkFvhInpY"
      },
      "outputs": [],
      "source": [
        "batch_size = 100\n",
        "# Used for batch-wise training\n",
        "trainloader = DataLoader(\n",
        "    [Data(Variable(X_train[i]), edge_index=edge_index, y=Variable(y_train[i])) for i in range(len(y_train))],\n",
        "    batch_size=batch_size,\n",
        "    shuffle=True)\n",
        "\n",
        "# Used for testing and message recording\n",
        "testloader = DataLoader(\n",
        "    [Data(X_test[i], edge_index=edge_index, y=y_test[i]) for i in range(len(y_test))],\n",
        "    batch_size= len(y_test),\n",
        "    shuffle=True)"
      ]
    },
    {
      "cell_type": "markdown",
      "metadata": {
        "id": "AxYf9ClXInpY"
      },
      "source": [
        "### Define message recording function (this data is later on used to train the GP)"
      ]
    },
    {
      "cell_type": "code",
      "execution_count": null,
      "metadata": {
        "id": "S0J4COh6InpZ"
      },
      "outputs": [],
      "source": [
        "def message_recording(model, loader):\n",
        "    with torch.no_grad():\n",
        "        for batch in loader:\n",
        "            model.cpu()\n",
        "            sending_particle_data = batch.x[batch.edge_index[0]]\n",
        "            receiving_particle_data = batch.x[batch.edge_index[1]]\n",
        "            y = batch.y\n",
        "            y = y.expand(y.shape[0], n_neighbors)\n",
        "            y = torch.reshape(y, shape=(y.size(0)*n_neighbors, 1))\n",
        "            #print(sending_particle_data.shape)\n",
        "            tmp = torch.cat([receiving_particle_data, sending_particle_data], dim=1)\n",
        "            #print(tmp.shape)\n",
        "            message = model.shared_msg(tmp)\n",
        "            #print(message.shape)\n",
        "            all_data = torch.cat((sending_particle_data, receiving_particle_data, message, y), dim=1)\n",
        "            if spherical == True:\n",
        "                columns = ['r', 'theta', 'phi', 'u_x', 'u_y', 'u_z']\n",
        "            else:\n",
        "                columns = ['x', 'y', 'z' , 'u_x', 'u_y', 'u_z']\n",
        "            columns += ['F_i', 'F_true']\n",
        "    return pd.DataFrame(data=all_data.cpu().detach().numpy(),columns=columns)"
      ]
    },
    {
      "cell_type": "code",
      "execution_count": null,
      "metadata": {
        "id": "uPrraDx_InpZ"
      },
      "outputs": [],
      "source": [
        "loss_fn = torch.nn.MSELoss()\n",
        "lr = 2.0e-3\n",
        "epochs = 5000\n",
        "cuteLittleAdam = Adam(model.parameters(), lr=lr)  \n",
        "sched = OneCycleLR(cuteLittleAdam, max_lr=lr, steps_per_epoch=len(trainloader), epochs=epochs, final_div_factor=1e5)\n",
        "\n",
        "# Use GPU for training\n",
        "device = torch.device(\"cuda:0\" if torch.cuda.is_available() else \"cpu\")\n",
        "model = model.to(device)\n",
        "\n",
        "def R2(y_pred, y_true):\n",
        "    SS_res =  torch.sum(torch.square(y_true - y_pred)) \n",
        "    SS_tot = torch.sum(torch.square(y_true - torch.mean(y_true))) \n",
        "    return 1 - SS_res / (SS_tot + 1e-30) #add tiny value to avoid division by 0\n",
        "\n",
        "def accuracy(loader, model):\n",
        "    losses = []\n",
        "    r2s = []\n",
        "    for batch in loader:\n",
        "      with torch.no_grad():\n",
        "        # Compute model prediction\n",
        "        pred = model(batch.x.float(), batch.edge_index) \n",
        "        # Do the reshaping because we only want to predict the property of the center node\n",
        "        pred = pred.reshape((batch.num_graphs, len(pred)//batch.num_graphs))\n",
        "        y_pred_center = pred[:,0].reshape((len(pred),1))\n",
        "        # Compute loss and R^2 of prediction\n",
        "        loss = loss_fn(y_pred_center, batch.y)\n",
        "        r2 = R2(y_pred_center, batch.y)\n",
        "        losses.append(loss)\n",
        "        r2s.append(r2)\n",
        "    loss = sum(losses)/len(losses)\n",
        "    r2 = sum(r2s)/len(r2s)\n",
        "    \n",
        "    return loss, r2"
      ]
    },
    {
      "cell_type": "markdown",
      "source": [
        "### Train the GN from scratch or..."
      ],
      "metadata": {
        "id": "uhfGWtniR1Gv"
      }
    },
    {
      "cell_type": "code",
      "execution_count": null,
      "metadata": {
        "colab": {
          "base_uri": "https://localhost:8080/"
        },
        "id": "0tOPxNa-Inpa",
        "outputId": "58f5bb4e-6bd0-4c5c-f13d-ef52c773f9e2"
      },
      "outputs": [
        {
          "output_type": "stream",
          "name": "stdout",
          "text": [
            "Epoch 100 | Train Loss 0.0011225215857848525 | Train R^2 0.021056266501545906  | Test Loss 0.0010746795451268554 | Test R^2 0.029539942741394043\n",
            "Epoch 200 | Train Loss 0.0010040393099188805 | Train R^2 0.12195361405611038  | Test Loss 0.0009418439003638923 | Test R^2 0.1494935154914856\n",
            "Epoch 300 | Train Loss 0.0005495187360793352 | Train R^2 0.520442008972168  | Test Loss 0.0005024692509323359 | Test R^2 0.546258807182312\n",
            "Epoch 400 | Train Loss 0.0004953650641255081 | Train R^2 0.5656164288520813  | Test Loss 0.00047728302888572216 | Test R^2 0.5690025091171265\n",
            "Epoch 500 | Train Loss 0.000385144492611289 | Train R^2 0.6621277332305908  | Test Loss 0.0003957099106628448 | Test R^2 0.642664909362793\n",
            "Epoch 600 | Train Loss 0.00047489142161794007 | Train R^2 0.5787683725357056  | Test Loss 0.00047477532643824816 | Test R^2 0.5712670087814331\n",
            "Epoch 700 | Train Loss 0.0005194932455196977 | Train R^2 0.545788586139679  | Test Loss 0.0005102584254927933 | Test R^2 0.5392249822616577\n",
            "Epoch 800 | Train Loss 0.00043154912418685853 | Train R^2 0.620475709438324  | Test Loss 0.00042514014057815075 | Test R^2 0.6160887479782104\n",
            "Epoch 900 | Train Loss 0.0003717262588907033 | Train R^2 0.6768302321434021  | Test Loss 0.0003698362852446735 | Test R^2 0.6660293936729431\n",
            "Epoch 1000 | Train Loss 0.0004123210092075169 | Train R^2 0.637566328048706  | Test Loss 0.0004163241246715188 | Test R^2 0.6240498423576355\n",
            "Epoch 1100 | Train Loss 0.0003837156982626766 | Train R^2 0.6653872132301331  | Test Loss 0.0003900119918398559 | Test R^2 0.6478103399276733\n",
            "Epoch 1200 | Train Loss 0.0002801371447276324 | Train R^2 0.7536171674728394  | Test Loss 0.0002813833998516202 | Test R^2 0.7459043860435486\n",
            "Epoch 1300 | Train Loss 0.00016161086387000978 | Train R^2 0.8563166856765747  | Test Loss 0.00016322886222042143 | Test R^2 0.8526005744934082\n",
            "Epoch 1400 | Train Loss 0.00016369276272598654 | Train R^2 0.853388249874115  | Test Loss 0.00016746223263908178 | Test R^2 0.8487777709960938\n",
            "Epoch 1500 | Train Loss 0.0001591683248989284 | Train R^2 0.8594833612442017  | Test Loss 0.00016687478637322783 | Test R^2 0.8493082523345947\n",
            "Epoch 1600 | Train Loss 0.00013802324247080833 | Train R^2 0.878741443157196  | Test Loss 0.00014246717910282314 | Test R^2 0.8713489174842834\n",
            "Epoch 1700 | Train Loss 0.00031085460796020925 | Train R^2 0.721325695514679  | Test Loss 0.00030857636011205614 | Test R^2 0.7213485240936279\n",
            "Epoch 1800 | Train Loss 0.00016159072401933372 | Train R^2 0.8566480875015259  | Test Loss 0.00017010359442792833 | Test R^2 0.8463925719261169\n",
            "Epoch 1900 | Train Loss 0.00011854634067276493 | Train R^2 0.8943416476249695  | Test Loss 0.00012366795272100717 | Test R^2 0.8883249759674072\n",
            "Epoch 2000 | Train Loss 0.0001148627998190932 | Train R^2 0.8992859125137329  | Test Loss 0.00012017582048429176 | Test R^2 0.8914784789085388\n",
            "Epoch 2100 | Train Loss 0.0001129498123191297 | Train R^2 0.900119960308075  | Test Loss 0.00011712682317011058 | Test R^2 0.8942317962646484\n",
            "Epoch 2200 | Train Loss 0.00011362676741555333 | Train R^2 0.8991554379463196  | Test Loss 0.00011886877473443747 | Test R^2 0.8926587700843811\n",
            "Epoch 2300 | Train Loss 0.00012275621702428907 | Train R^2 0.8922314643859863  | Test Loss 0.0001299618452321738 | Test R^2 0.8826414942741394\n",
            "Epoch 2400 | Train Loss 0.00011631676170509309 | Train R^2 0.8987288475036621  | Test Loss 0.00012009177589789033 | Test R^2 0.8915544152259827\n",
            "Epoch 2500 | Train Loss 0.00014627522614318877 | Train R^2 0.870867133140564  | Test Loss 0.00014994449156802148 | Test R^2 0.8645967245101929\n",
            "Epoch 2600 | Train Loss 0.00010590883175609633 | Train R^2 0.9048430323600769  | Test Loss 0.00011082670971518382 | Test R^2 0.8999209403991699\n",
            "Epoch 2700 | Train Loss 0.00010653306526364759 | Train R^2 0.905362606048584  | Test Loss 0.00011331114365020767 | Test R^2 0.897677481174469\n",
            "Epoch 2800 | Train Loss 0.00011666434147628024 | Train R^2 0.8976150155067444  | Test Loss 0.00012098121806047857 | Test R^2 0.8907511830329895\n",
            "Epoch 2900 | Train Loss 0.00010607724834699184 | Train R^2 0.9059473872184753  | Test Loss 0.00010907103569479659 | Test R^2 0.9015063643455505\n",
            "Epoch 3000 | Train Loss 0.00011115406960016116 | Train R^2 0.9000453948974609  | Test Loss 0.00011719361646100879 | Test R^2 0.8941714763641357\n",
            "Epoch 3100 | Train Loss 0.0001060953363776207 | Train R^2 0.9055824875831604  | Test Loss 0.00011131072824355215 | Test R^2 0.899483859539032\n",
            "Epoch 3200 | Train Loss 0.0001269240165129304 | Train R^2 0.8878045082092285  | Test Loss 0.00013393604604061693 | Test R^2 0.8790526986122131\n",
            "Epoch 3300 | Train Loss 0.00010284562449669465 | Train R^2 0.9089450240135193  | Test Loss 0.00010832584666786715 | Test R^2 0.9021793007850647\n",
            "Epoch 3400 | Train Loss 0.00010533001477597281 | Train R^2 0.906990647315979  | Test Loss 0.00011043057747883722 | Test R^2 0.9002786874771118\n",
            "Epoch 3500 | Train Loss 0.00012099843297619373 | Train R^2 0.8935666084289551  | Test Loss 0.0001265307073481381 | Test R^2 0.8857399225234985\n",
            "Epoch 3600 | Train Loss 0.00011964092846028507 | Train R^2 0.893902599811554  | Test Loss 0.0001235535746673122 | Test R^2 0.8884283304214478\n",
            "Epoch 3700 | Train Loss 0.00010153723269468173 | Train R^2 0.9103977084159851  | Test Loss 0.00010697473771870136 | Test R^2 0.9033993482589722\n",
            "Epoch 3800 | Train Loss 0.00010299571295036003 | Train R^2 0.9089154005050659  | Test Loss 0.00010893449507420883 | Test R^2 0.9016296863555908\n",
            "Epoch 3900 | Train Loss 0.00010119929356733337 | Train R^2 0.9100967645645142  | Test Loss 0.00010746521002147347 | Test R^2 0.902956485748291\n",
            "Epoch 4000 | Train Loss 0.00010159030352951959 | Train R^2 0.9109256863594055  | Test Loss 0.00010747353371698409 | Test R^2 0.9029489755630493\n",
            "Epoch 4100 | Train Loss 0.00010074132296722382 | Train R^2 0.9115674495697021  | Test Loss 0.00010642532288329676 | Test R^2 0.9038954973220825\n",
            "Epoch 4200 | Train Loss 0.00010114623728441074 | Train R^2 0.9090622663497925  | Test Loss 0.00010658789688022807 | Test R^2 0.9037486910820007\n",
            "Epoch 4300 | Train Loss 0.00010657461098162457 | Train R^2 0.9068180322647095  | Test Loss 0.00011109746264992282 | Test R^2 0.8996764421463013\n",
            "Epoch 4400 | Train Loss 0.00010095519246533513 | Train R^2 0.9110695123672485  | Test Loss 0.00010646472219377756 | Test R^2 0.9038599133491516\n",
            "Epoch 4500 | Train Loss 0.00010068047413369641 | Train R^2 0.911597728729248  | Test Loss 0.00010641729750204831 | Test R^2 0.9039027690887451\n",
            "Epoch 4600 | Train Loss 0.00010095371544593945 | Train R^2 0.9108273983001709  | Test Loss 0.00010724523599492386 | Test R^2 0.9031551480293274\n",
            "Epoch 4700 | Train Loss 0.00010060288332169876 | Train R^2 0.9118779897689819  | Test Loss 0.00010615082283038646 | Test R^2 0.9041433930397034\n",
            "Epoch 4800 | Train Loss 0.00010104601096827537 | Train R^2 0.9116422533988953  | Test Loss 0.00010625433787936345 | Test R^2 0.9040499329566956\n",
            "Epoch 4900 | Train Loss 0.00010092351294588298 | Train R^2 0.9116695523262024  | Test Loss 0.00010620673856465146 | Test R^2 0.9040929079055786\n",
            "Epoch 5000 | Train Loss 0.00010043041402241215 | Train R^2 0.9112682342529297  | Test Loss 0.00010616179497446865 | Test R^2 0.9041334986686707\n"
          ]
        }
      ],
      "source": [
        "r2_prev = 0\n",
        "r2_earlystop_count = 0\n",
        "msg_archive = []\n",
        "\n",
        "for epoch in range(1,epochs+1):\n",
        "    for batch in trainloader:\n",
        "      # Use GPU\n",
        "      batch.to(device)  \n",
        "      # Reset gradients\n",
        "      cuteLittleAdam.zero_grad() \n",
        "      # Passing the node features and the connection info\n",
        "      pred = model(batch.x.float(), batch.edge_index) \n",
        "      # Calculating the loss and gradients\n",
        "      # Do the reshaping because we only want to predict the property of the center node\n",
        "      pred = pred.reshape((batch.num_graphs, len(pred)//batch.num_graphs))\n",
        "      y_pred_center = pred[:,0].reshape((len(pred),1))\n",
        "      # Compute loss and backpropagate\n",
        "      loss = loss_fn(y_pred_center, batch.y)    \n",
        "      loss.backward()  \n",
        "      # Update using the gradients\n",
        "      cuteLittleAdam.step()\n",
        "      sched.step()\n",
        "    \n",
        "    #Store message values \n",
        "    msg = message_recording(model, testloader)\n",
        "    msg_archive.append(msg)\n",
        "\n",
        "    #Early Stopping Check\n",
        "    loss_test, r2_test = accuracy(testloader, model)\n",
        "    if r2_test < r2_prev:\n",
        "      r2_earlystop_count += 1\n",
        "      if r2_earlystop_count == 10:\n",
        "        print('Early Stopping reached')\n",
        "        break\n",
        "    else: \n",
        "      r2_earlystop_count = 0\n",
        "    r2_prev = r2_test\n",
        "\n",
        "    if epoch % 100 == 0:\n",
        "      #go through entire train and test set for trustworthy report of train and test accuracy\n",
        "      loss_train, r2_train = accuracy(trainloader, model)\n",
        "      loss_test, r2_test = accuracy(testloader, model)\n",
        "      print(f\"Epoch {epoch} | Train Loss {loss_train} | Train R^2 {r2_train}  | Test Loss {loss_test} | Test R^2 {r2_test}\")"
      ]
    },
    {
      "cell_type": "markdown",
      "metadata": {
        "id": "wBGNoMQ3Inpb"
      },
      "source": [
        "### ...load the trained model from the github repo"
      ]
    },
    {
      "cell_type": "code",
      "execution_count": null,
      "metadata": {
        "colab": {
          "base_uri": "https://localhost:8080/"
        },
        "id": "6O_uuUkaInpb",
        "outputId": "81513188-920c-4f92-85eb-a4db88db2b7d"
      },
      "outputs": [
        {
          "output_type": "execute_result",
          "data": {
            "text/plain": [
              "<All keys matched successfully>"
            ]
          },
          "metadata": {},
          "execution_count": 31
        }
      ],
      "source": [
        "filename = f'Re{Re.replace(\".\",\"\")}_phi{phi.replace(\".\",\"\")}'\n",
        "if spherical == True:\n",
        "    filename += '_spherical'\n",
        "else:\n",
        "    filename += '_cartesian'\n",
        "if nodeupdate == True:\n",
        "    filename += '_nodeupdate'\n",
        "    \n",
        "from urllib.request import urlopen\n",
        "import cloudpickle as cp\n",
        "\n",
        "url = \"https://github.com/juliareuter/flowinGN/blob/main/GN_results/messages_\"+filename+\".pkl?raw=true\"\n",
        "msg = cp.load(urlopen(url))\n",
        "url = \"https://github.com/juliareuter/flowinGN/blob/main/GN_results/model_\"+filename+\".pkl?raw=true\"\n",
        "model_ = cp.load(urlopen(url))\n",
        "\n",
        "if nodeupdate == True:\n",
        "    model = GN_nodeupdate(in_features, out_features, edge_index=edge_index, aggr=aggr)\n",
        "else:\n",
        "    model = GN_edgeonly(in_features, out_features, edge_index=edge_index, aggr=aggr)\n",
        "model.load_state_dict(model_)"
      ]
    },
    {
      "cell_type": "markdown",
      "metadata": {
        "id": "iFB1hmRVInpb"
      },
      "source": [
        "### Run some tests on the model"
      ]
    },
    {
      "cell_type": "code",
      "execution_count": null,
      "metadata": {
        "colab": {
          "base_uri": "https://localhost:8080/",
          "height": 407
        },
        "id": "3hlgqNqGInpb",
        "outputId": "a90a7df3-2cfb-4f15-b697-3cd47fe58a0b"
      },
      "outputs": [
        {
          "output_type": "display_data",
          "data": {
            "text/plain": [
              "<Figure size 400x400 with 1 Axes>"
            ],
            "image/png": "[encoded data removed]"
          },
          "metadata": {}
        }
      ],
      "source": [
        "for batch in testloader:\n",
        "    with torch.no_grad():\n",
        "        pred = model(batch.x.float(), batch.edge_index) \n",
        "        # Calculating the loss and gradients\n",
        "        # Do the reshaping because we only want to predict the property of the center node\n",
        "        pred = pred.reshape((batch.num_graphs, len(pred)//batch.num_graphs))\n",
        "        y_pred_center = pred[:,0].reshape((len(pred),1))\n",
        "        y = batch.y\n",
        "\n",
        "        fig, ax1 = plt.subplots(figsize=(4,4), tight_layout=True)\n",
        "        \n",
        "        ax1.scatter(y, y_pred_center, marker='.', s=9, linewidth=0.5, alpha=0.8, edgecolor='tab:blue', facecolor='white')\n",
        "        \n",
        "        lim1 = torch.min(y)-torch.std(y)\n",
        "        lim2 = torch.max(y)+torch.std(y)\n",
        "        ax1.plot([lim1, lim2], [lim1, lim2], linestyle='--', color='red', linewidth=2, alpha=0.8)\n",
        "        r2 = R2(y_pred_center, y)\n",
        "        ax1.set_title('$\\phi$ = ' + phi +', nodeupdate = '+str(nodeupdate)+', $R^2$ = '+str(r2.round(decimals=5).numpy()), size = 9)"
      ]
    }
  ],
  "metadata": {
    "kernelspec": {
      "display_name": "pytorchenv",
      "language": "python",
      "name": "python3"
    },
    "language_info": {
      "codemirror_mode": {
        "name": "ipython",
        "version": 3
      },
      "file_extension": ".py",
      "mimetype": "text/x-python",
      "name": "python",
      "nbconvert_exporter": "python",
      "pygments_lexer": "ipython3",
      "version": "3.8.13"
    },
    "orig_nbformat": 4,
    "vscode": {
      "interpreter": {
        "hash": "bc9af5a51fc9e4612254767cda481e0da0f91dee5b846c27938fd725103e1de4"
      }
    },
    "colab": {
      "provenance": [],
      "include_colab_link": true
    }
  },
  "nbformat": 4,
  "nbformat_minor": 0
}